{
 "cells": [
  {
   "cell_type": "markdown",
   "metadata": {},
   "source": [
    "---\n",
    "title: Using Javascript with HTML DOM\n",
    "hide: True\n",
    "description: A Tech Talk on how javascript can interact with HTML DOM\n",
    "type: hacks\n",
    "permalink: /basics/dom\n",
    "author: Rohan Juneja\n",
    "courses: {csp: { week: 5 } }\n",
    "---"
   ]
  },
  {
   "cell_type": "raw",
   "metadata": {},
   "source": [
    "{% include nav_basics.html %}\n"
   ]
  },
  {
   "cell_type": "markdown",
   "metadata": {},
   "source": [
    "\n",
    "# Following along\n",
    "Remember to \"git pull\" on teacher repository to update to lates.\n",
    "- Run this notebook in VSCode\n",
    "- Activate Help-Toogel Developer Tools to add console outputs to runtime experience"
   ]
  },
  {
   "cell_type": "markdown",
   "metadata": {},
   "source": [
    "# Referencing HTML elements using javascript\n",
    "- To get an HTML element, use ``document.getElementById(\"idTag\")``\n",
    "- You will use the ID that you set in your HTML\n",
    "- if you `console.log` the resulting variable you will get some information about the element"
   ]
  },
  {
   "cell_type": "code",
   "execution_count": null,
   "metadata": {},
   "outputs": [],
   "source": [
    "%%html\n",
    "<!-- the ID must be specified within the element -->\n",
    "<h1 id=\"domTitleID\">My Title</h1>\n",
    "\n",
    "<!-- javascript goes here -->\n",
    "<script>\n",
    "var titleElement = document.getElementById(\"domTitleID\")\n",
    "<!-- outputs h1 tag -->\n",
    "console.log(\"Example #1, show element in DOM\")\n",
    "console.log(titleElement)\n",
    "</script>"
   ]
  },
  {
   "cell_type": "markdown",
   "metadata": {},
   "source": [
    "# Getting the data within the HTML element\n",
    "- The variable titleElement stores the \"object\"\n",
    "- Basically think of this as the group of data enclosed in HTML tag\n",
    "- To access a certain type of data from an \"object\" we use \".\" notation\n",
    "  - .innerHTML gets data within center of tag"
   ]
  },
  {
   "cell_type": "code",
   "execution_count": null,
   "metadata": {},
   "outputs": [],
   "source": [
    "%%html\n",
    "<!-- the ID must be specified within the element -->\n",
    "<h1 id=\"domTitleIDget\">My Title</h1>\n",
    "\n",
    "<!-- javascript goes here -->\n",
    "<script>\n",
    "var titleElement = document.getElementById(\"domTitleIDget\")\n",
    "<!-- outputs h1 innerHTML from h1 tag -->\n",
    "console.log(\"Example #2, show innerHTML\")\n",
    "console.log(titleElement.innerHTML)\n",
    "</script>"
   ]
  },
  {
   "cell_type": "markdown",
   "metadata": {},
   "source": [
    "# Setting the data within the HTML Element\n",
    "- The innerHTML data in this \"object\" can be set like a variable\n",
    "  - Change the value of the innerHTML using the \"=\" (assignment) operator"
   ]
  },
  {
   "cell_type": "code",
   "execution_count": null,
   "metadata": {},
   "outputs": [],
   "source": [
    "%%html\n",
    "<!-- the ID must be specified on the element -->\n",
    "<h1 id=\"domTitleIDset\">My Title</h1>\n",
    "\n",
    "<!-- javascript goes here -->\n",
    "<script>\n",
    "var titleElement = document.getElementById(\"domTitleIDset\")\n",
    "titleElement.innerHTML = \"Set and Update My Title\"\n",
    "<!-- outputs h1 innerHTML after h1 tag has been updated -->\n",
    "console.log(\"Example #3, update innerHTML\")\n",
    "console.log(titleElement.innerHTML)\n",
    "</script>"
   ]
  },
  {
   "cell_type": "markdown",
   "metadata": {},
   "source": [
    "# Creating elements\n",
    "- Create a new element with the document.createElement function -> takes in the type of element\n",
    "- Set properties in the element just like the \"h1\" example"
   ]
  },
  {
   "cell_type": "code",
   "execution_count": null,
   "metadata": {},
   "outputs": [],
   "source": [
    "%%html\n",
    "<!-- the ID must be specified on the element -->\n",
    "<div id=\"divContainerID\">\n",
    "    <h1 id=\"h1ElementID\">My Title</h1>\n",
    "</div>\n",
    "\n",
    "<!-- javascript goes here -->\n",
    "<script>\n",
    "   // creates a new element\n",
    "   var pElement = document.createElement(\"p\")\n",
    "   pElement.innerHTML = \"Starting a paragraph of text.\"\n",
    "   \n",
    "   // outputs p tag after it has been created\n",
    "   console.log(\"Example #4, create a p tag within JS\")\n",
    "   console.log(pElement)\n",
    "</script>"
   ]
  },
  {
   "cell_type": "markdown",
   "metadata": {},
   "source": [
    "# Issue! How to Create element that appears in HTML?\n",
    "- Here is a visualization of what is happening => the \"p\" is not placed inside the HRML page!\n",
    "![visual on p tag floating]({{ site.baseurl }}/images/dom-visual-1.png)\n"
   ]
  },
  {
   "cell_type": "markdown",
   "metadata": {},
   "source": [
    "# Solution\n",
    "- Correct by placeing the element somewhere in the page\n",
    "- For example, we could add the element within the div\n",
    "   - For this, use the appendChild function on the div object (the parameter would be the p element we created)\n",
    "   - Remember, use the getELementById to get the object for something in the html (the div!)\n",
    "- Updated Diagram\n",
    "![visual on p tag in div]({{ site.baseurl }}/images/dom-visual-2.png)"
   ]
  },
  {
   "cell_type": "code",
   "execution_count": null,
   "metadata": {},
   "outputs": [],
   "source": [
    "%%html\n",
    "<!-- the ID must be specified on the element -->\n",
    "<div id=\"divContainerIDset\">\n",
    "    <h1 id=\"h1ElementIDset\">My Title</h1>\n",
    "</div>\n",
    "\n",
    "<!-- javascript goes here -->\n",
    "<script>\n",
    "   // creates a new element\n",
    "   var pElement = document.createElement(\"p\")\n",
    "   pElement.innerHTML = \"Starting a paragraph of text.\"\n",
    "   \n",
    "   // outputs p tag after it has been created\n",
    "   console.log(\"Example #5, add p tag to HTML\")\n",
    "   console.log(pElement)\n",
    "   \n",
    "   // place the p element inside the HTML page\n",
    "   var div = document.getElementById(\"divContainerIDset\")\n",
    "   div.appendChild(pElement)\n",
    "</script>"
   ]
  },
  {
   "cell_type": "markdown",
   "metadata": {},
   "source": [
    "# Functions in JavaScript, using with DOM\n",
    "- Functions allow you to \"do something\"\n",
    "  - ex. \"eat food\" in a Snake Game\n",
    "- Functions were used in previous examples\n",
    "  - console.log = \"print something\"\n",
    "  - document.getElementById = \"find an element with id\"\n",
    "- Functions take in parameters, what to do (inside the parenthesis)\n",
    "  - the parameter tells console.log what to print\n",
    "  - the parameter in document.getElementById tells the id of the element\n",
    "- Functions can be used with DOM as well, thes will be shown below"
   ]
  },
  {
   "cell_type": "markdown",
   "metadata": {},
   "source": [
    "# Creeating functions\n",
    "- document functions functions were used to create a lot of functionality, but how can a developer create their own?\n",
    "- function are useful to avoid writing the same code over and over again\n",
    "- function can contain parameters for input (they effectively become variables)\n",
    "- function can contain a return, the are the \"output\" of the function"
   ]
  },
  {
   "cell_type": "code",
   "execution_count": null,
   "metadata": {},
   "outputs": [],
   "source": [
    "%%html\n",
    "<!-- the ID must be specified on the element -->\n",
    "<div id=\"divContainerIDfunction\">\n",
    "    <h1 id=\"h1ElementIDfunction\">My Title</h1>\n",
    "</div>\n",
    "\n",
    "<!-- javascript goew here -->\n",
    "<script>\n",
    "    // define a function => takes parameter text, returns a new p tab\n",
    "    function createPTag(text) {\n",
    "        // creates a new element\n",
    "        var pElement = document.createElement(\"p\")\n",
    "\n",
    "        // using the parameter like a variable\n",
    "        pElement.innerHTML = text\n",
    "        \n",
    "        // outputs p tag after it has been created\n",
    "        console.log(\"Example #6, add p tag using a function\")\n",
    "        console.log(pElement)\n",
    "\n",
    "        return pElement;\n",
    "    }\n",
    "\n",
    "    // using a function to create p tag\n",
    "    var pTag = createPTag(\"Starting a paragraph with cooler text than before.\")\n",
    "\n",
    "    // place the p element in the webpage\n",
    "    var div = document.getElementById(\"divContainerIDfunction\")\n",
    "    div.appendChild(pTag)\n",
    "</script>"
   ]
  },
  {
   "cell_type": "markdown",
   "metadata": {},
   "source": [
    "# OnClick Event\n",
    "- Run a function when an event occurs\n",
    "   - In this case, the p tag is created when the button is clicked"
   ]
  },
  {
   "cell_type": "code",
   "execution_count": null,
   "metadata": {},
   "outputs": [],
   "source": [
    "%%html\n",
    "<!-- the ID must be specified on the elements -->\n",
    "<button id=\"buttonID\">Click here!</button>\n",
    "\n",
    "<div id=\"divContainerIDbutton\">\n",
    "    <h1 id=\"h1ElementIDbutton\">My Title</h1>\n",
    "</div>\n",
    "\n",
    "<!-- our javascript goe here -->\n",
    "<script>\n",
    "    // define a function => takes parameter text, returns a new p tab\n",
    "    function createPTag(text) {\n",
    "        // creates a new element\n",
    "        var pElement = document.createElement(\"p\")\n",
    "\n",
    "        // using the parameter like a variable\n",
    "        pElement.innerHTML = text\n",
    "        \n",
    "        // outputs p tag after it has been created\n",
    "        console.log(\"Example #7.1, add p tag using a function\")\n",
    "        console.log(pElement)\n",
    "\n",
    "        return pElement;\n",
    "    }\n",
    "\n",
    "    // create a function that sets specific text and adds to div\n",
    "    function addPTagOnButton() {\n",
    "        // using our new function\n",
    "        var pTag = createPTag(\"Starting a paragraph with text created on button press.\")\n",
    "\n",
    "        // place the p element in the webpage\n",
    "        var div = document.getElementById(\"divContainerIDbutton\")\n",
    "\n",
    "        // add p tag to the div\n",
    "        div.appendChild(pTag)\n",
    "        \n",
    "        // outputs p tag after it has been created\n",
    "        console.log(\"Example #7.2, update container adding a 'p' tag\")\n",
    "        console.log(div)\n",
    "    }\n",
    "\n",
    "    // add the P tag when our button is clicked\n",
    "    var myButton = document.getElementById(\"buttonID\")\n",
    "    myButton.onclick = addPTagOnButton\n",
    "    \n",
    "</script>"
   ]
  },
  {
   "cell_type": "markdown",
   "metadata": {},
   "source": [
    "# Hacks\n",
    "- Copy your HTML code from the HTML hacks. Write a Javascript snippet to switch the links of the two a tags when a button is pressed. Once they are switched, change the inner HTML of the top p tag to the word \"switched!\""
   ]
  },
  {
   "cell_type": "code",
   "execution_count": 1,
   "metadata": {
    "vscode": {
     "languageId": "html"
    }
   },
   "outputs": [
    {
     "data": {
      "text/html": [
       "\n",
       "<!-- Embed Google Fonts to use in the HTML for better typography -->\n",
       "<link href=\"https://fonts.googleapis.com/css2?family=Pacifico&display=swap\" rel=\"stylesheet\">\n",
       "\n",
       "<!-- Start CSS block for styles -->\n",
       "<style>\n",
       "    /* Define a CSS animation called gradientBG which moves the background gradient */\n",
       "    @keyframes gradientBG {\n",
       "        0% {\n",
       "            background-position: 0% 50%; /* Starting position of the gradient */\n",
       "        }\n",
       "        50% {\n",
       "            background-position: 100% 50%; /* Midway position of the gradient */\n",
       "        }\n",
       "        100% {\n",
       "            background-position: 0% 50%; /* Ending position (same as starting) of the gradient */\n",
       "        }\n",
       "    }\n",
       "\n",
       "    /* Style for the gradient container */\n",
       "    .gradient-container {\n",
       "        background: linear-gradient(-45deg, #ee7752, #e73c7e, #23a6d5, #23d5ab); /* Define the gradient colors */\n",
       "        background-size: 400% 400%; /* Enlarge the background to make the animation work */\n",
       "        animation: gradientBG 15s ease infinite; /* Apply the gradientBG animation */\n",
       "        padding: 20px; /* Add padding inside the container */\n",
       "        border-radius: 8px; /* Round the corners of the container */\n",
       "    }\n",
       "</style>\n",
       "\n",
       "<!-- Start HTML body content -->\n",
       "\n",
       "<p id=\"notification\"></p>\n",
       "\n",
       "<!-- Create a container with a moving gradient background and some padding -->\n",
       "<div class=\"gradient-container\">\n",
       "\n",
       "  <!-- Link to FIFA's official website with an id of \"x\" -->\n",
       "  <!-- The link is styled with the Pacifico font, white color, larger font, and some margin -->\n",
       "  <a id=\"x\" href=\"https://www.fifa.com\" style=\"color: white; font-size: 24px; display: block; margin-bottom: 20px; font-family: 'Pacifico', cursive; text-decoration: none;\">Link to FIFA</a>\n",
       "  \n",
       "  <!-- Link to Manchester United's website with an id of \"y\" -->\n",
       "  <!-- The link is styled similarly to the above -->\n",
       "  <a id=\"y\" href=\"https://www.manutd.com\" style=\"color: white; font-size: 24px; display: block; font-family: 'Pacifico', cursive; text-decoration: none;\">Link to Manchester United</a>\n",
       "  \n",
       "</div>\n",
       "\n",
       "<!-- Start JavaScript block to manipulate the link URLs -->\n",
       "\n",
       "<script>\n",
       "    // Get references to the two links using their respective ids\n",
       "    var linkToFIFA = document.getElementById(\"x\");\n",
       "    var linkToManUtd = document.getElementById(\"y\");\n",
       "\n",
       "    // Store the original href attributes of the links\n",
       "    var fifaURL = linkToFIFA.href;\n",
       "    var manUtdURL = linkToManUtd.href;\n",
       "\n",
       "    // Swap the href attributes of the two links\n",
       "    linkToFIFA.href = manUtdURL;\n",
       "    linkToManUtd.href = fifaURL;\n",
       "\n",
       "    // Change the inner HTML of the top <p> tag to \"switched!\"\n",
       "    document.getElementById(\"notification\").innerHTML = \"switched!\";\n",
       "</script>\n"
      ],
      "text/plain": [
       "<IPython.core.display.HTML object>"
      ]
     },
     "metadata": {},
     "output_type": "display_data"
    }
   ],
   "source": [
    "%%html\n",
    "\n",
    "<!-- Embed Google Fonts to use in the HTML for better typography -->\n",
    "<link href=\"https://fonts.googleapis.com/css2?family=Pacifico&display=swap\" rel=\"stylesheet\">\n",
    "\n",
    "<!-- Start CSS block for styles -->\n",
    "<style>\n",
    "    /* Define a CSS animation called gradientBG which moves the background gradient */\n",
    "    @keyframes gradientBG {\n",
    "        0% {\n",
    "            background-position: 0% 50%; /* Starting position of the gradient */\n",
    "        }\n",
    "        50% {\n",
    "            background-position: 100% 50%; /* Midway position of the gradient */\n",
    "        }\n",
    "        100% {\n",
    "            background-position: 0% 50%; /* Ending position (same as starting) of the gradient */\n",
    "        }\n",
    "    }\n",
    "\n",
    "    /* Style for the gradient container */\n",
    "    .gradient-container {\n",
    "        background: linear-gradient(-45deg, #ee7752, #e73c7e, #23a6d5, #23d5ab); /* Define the gradient colors */\n",
    "        background-size: 400% 400%; /* Enlarge the background to make the animation work */\n",
    "        animation: gradientBG 15s ease infinite; /* Apply the gradientBG animation */\n",
    "        padding: 20px; /* Add padding inside the container */\n",
    "        border-radius: 8px; /* Round the corners of the container */\n",
    "    }\n",
    "</style>\n",
    "\n",
    "<!-- Start HTML body content -->\n",
    "\n",
    "<p id=\"notification\"></p>\n",
    "\n",
    "<!-- Create a container with a moving gradient background and some padding -->\n",
    "<div class=\"gradient-container\">\n",
    "\n",
    "  <!-- Link to FIFA's official website with an id of \"x\" -->\n",
    "  <!-- The link is styled with the Pacifico font, white color, larger font, and some margin -->\n",
    "  <a id=\"x\" href=\"https://www.fifa.com\" style=\"color: white; font-size: 24px; display: block; margin-bottom: 20px; font-family: 'Pacifico', cursive; text-decoration: none;\">Link to FIFA</a>\n",
    "  \n",
    "  <!-- Link to Manchester United's website with an id of \"y\" -->\n",
    "  <!-- The link is styled similarly to the above -->\n",
    "  <a id=\"y\" href=\"https://www.manutd.com\" style=\"color: white; font-size: 24px; display: block; font-family: 'Pacifico', cursive; text-decoration: none;\">Link to Manchester United</a>\n",
    "  \n",
    "</div>\n",
    "\n",
    "<!-- Start JavaScript block to manipulate the link URLs -->\n",
    "\n",
    "<script>\n",
    "    // Get references to the two links using their respective ids\n",
    "    var linkToFIFA = document.getElementById(\"x\");\n",
    "    var linkToManUtd = document.getElementById(\"y\");\n",
    "\n",
    "    // Store the original href attributes of the links\n",
    "    var fifaURL = linkToFIFA.href;\n",
    "    var manUtdURL = linkToManUtd.href;\n",
    "\n",
    "    // Swap the href attributes of the two links\n",
    "    linkToFIFA.href = manUtdURL;\n",
    "    linkToManUtd.href = fifaURL;\n",
    "\n",
    "    // Change the inner HTML of the top <p> tag to \"switched!\"\n",
    "    document.getElementById(\"notification\").innerHTML = \"switched!\";\n",
    "</script>\n"
   ]
  }
 ],
 "metadata": {
  "kernelspec": {
   "display_name": "Python 3",
   "language": "python",
   "name": "python3"
  },
  "language_info": {
   "codemirror_mode": {
    "name": "ipython",
    "version": 3
   },
   "file_extension": ".py",
   "mimetype": "text/x-python",
   "name": "python",
   "nbconvert_exporter": "python",
   "pygments_lexer": "ipython3",
   "version": "3.11.4"
  },
  "orig_nbformat": 4
 },
 "nbformat": 4,
 "nbformat_minor": 2
}
