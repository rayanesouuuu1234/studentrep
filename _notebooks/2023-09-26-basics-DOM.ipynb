{
 "cells": [
  {
   "cell_type": "markdown",
   "metadata": {},
   "source": [
    "---\n",
    "title: HTML DOM\n",
    "hide: True\n",
    "description: A Tech Talk on how javascript can interact with HTML DOM\n",
    "type: hacks\n",
    "permalink: /basics/dom\n",
    "author: Rayane Souissi\n",
    "courses: {csp: { week: 5 } }\n",
    "---"
   ]
  },
  {
   "cell_type": "raw",
   "metadata": {},
   "source": [
    "{% include nav_basics.html %}\n"
   ]
  },
  {
   "cell_type": "markdown",
   "metadata": {},
   "source": [
    "# Hacks\n",
    "- Copy your HTML code from the HTML hacks. Write a Javascript snippet to switch the links of the two a tags when a button is pressed. Once they are switched, change the inner HTML of the top p tag to the word \"switched!\""
   ]
  },
  {
   "cell_type": "code",
   "execution_count": 3,
   "metadata": {
    "vscode": {
     "languageId": "html"
    }
   },
   "outputs": [
    {
     "data": {
      "text/html": [
       "\n",
       "<!-- Simplified CSS styles -->\n",
       "<style>\n",
       "    @keyframes gradientBG {\n",
       "        0%, 100% { background-position: 0% 50%; }\n",
       "        50% { background-position: 100% 50%; }\n",
       "    }\n",
       "\n",
       "    .gradient-container {\n",
       "        /* Modified gradient colors to shades of grey and black */\n",
       "        background: linear-gradient(-45deg, #999, #666, #333, #000);\n",
       "        background-size: 400% 400%;\n",
       "        animation: gradientBG 15s ease infinite;\n",
       "        padding: 20px;\n",
       "        border-radius: 8px;\n",
       "        color: white; /* Set text color as white for inside this container */\n",
       "        font-size: 24px; \n",
       "    }\n",
       "\n",
       "    .gradient-container a {\n",
       "        display: block;\n",
       "        margin-bottom: 20px;\n",
       "        text-decoration: none;\n",
       "    }\n",
       "</style>\n",
       "\n",
       "<p id=\"notification\"></p>\n",
       "\n",
       "<div class=\"gradient-container\">\n",
       "  <a id=\"x\" href=\"https://www.fifa.com\">Link to FIFA</a>\n",
       "  <a id=\"y\" href=\"https://www.manutd.com\">Link to Manchester United</a>\n",
       "</div>\n",
       "\n",
       "<script>\n",
       "    var linkToFIFA = document.getElementById(\"x\");\n",
       "    var linkToManUtd = document.getElementById(\"y\");\n",
       "    \n",
       "    // Swap the href attributes of the two links\n",
       "    [linkToFIFA.href, linkToManUtd.href] = [linkToManUtd.href, linkToFIFA.href];\n",
       "    \n",
       "    document.getElementById(\"notification\").innerHTML = \"switched!\";\n",
       "</script>\n"
      ],
      "text/plain": [
       "<IPython.core.display.HTML object>"
      ]
     },
     "metadata": {},
     "output_type": "display_data"
    }
   ],
   "source": [
    "%%html\n",
    "\n",
    "<style>\n",
    "    @keyframes gradientBG {\n",
    "        0%, 100% { background-position: 0% 50%; }\n",
    "        50% { background-position: 100% 50%; }\n",
    "    }\n",
    "\n",
    "    .gradient-container {\n",
    "        /* Modified gradient colors to shades of grey and black */\n",
    "        background: linear-gradient(-45deg, #999, #666, #333, #000);\n",
    "        background-size: 400% 400%;\n",
    "        animation: gradientBG 15s ease infinite;\n",
    "        padding: 20px;\n",
    "        border-radius: 8px;\n",
    "        color: white; /* Set text color as white for inside this container */\n",
    "        font-size: 24px; \n",
    "    }\n",
    "\n",
    "    .gradient-container a {\n",
    "        display: block;\n",
    "        margin-bottom: 20px;\n",
    "        text-decoration: none;\n",
    "    }\n",
    "</style>\n",
    "\n",
    "<p id=\"notification\"></p>\n",
    "\n",
    "<div class=\"gradient-container\">\n",
    "  <a id=\"x\" href=\"https://www.fifa.com\">Link to FIFA</a>\n",
    "  <a id=\"y\" href=\"https://www.manutd.com\">Link to Manchester United</a>\n",
    "</div>\n",
    "\n",
    "<script>\n",
    "    var linkToFIFA = document.getElementById(\"x\");\n",
    "    var linkToManUtd = document.getElementById(\"y\");\n",
    "    \n",
    "    // Swap the href attributes of the two links\n",
    "    [linkToFIFA.href, linkToManUtd.href] = [linkToManUtd.href, linkToFIFA.href];\n",
    "    \n",
    "    document.getElementById(\"notification\").innerHTML = \"switched!\";\n",
    "</script>\n"
   ]
  }
 ],
 "metadata": {
  "kernelspec": {
   "display_name": "Python 3",
   "language": "python",
   "name": "python3"
  },
  "language_info": {
   "codemirror_mode": {
    "name": "ipython",
    "version": 3
   },
   "file_extension": ".py",
   "mimetype": "text/x-python",
   "name": "python",
   "nbconvert_exporter": "python",
   "pygments_lexer": "ipython3",
   "version": "3.11.4"
  },
  "orig_nbformat": 4
 },
 "nbformat": 4,
 "nbformat_minor": 2
}
