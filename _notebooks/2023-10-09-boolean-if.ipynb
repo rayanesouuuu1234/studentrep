{
 "cells": [
  {
   "cell_type": "markdown",
   "metadata": {},
   "source": [
    "---\n",
    "toc: false\n",
    "comments: false\n",
    "layout: post\n",
    "title: Boolean, If Lesson\n",
    "description: Team LEIA\n",
    "type: hacks\n",
    "courses: { compsci: {week: 8} }\n",
    "---"
   ]
  },
  {
   "cell_type": "markdown",
   "metadata": {},
   "source": [
    "# Boolean\n",
    "\n",
    "- A Boolean value is either true or false.\n",
    "- A Boolean expression produces a Boolean value (true or false) when evaluated."
   ]
  },
  {
   "cell_type": "markdown",
   "metadata": {},
   "source": [
    "## <mark>Conditional (\"if\") statements</mark>\n",
    "\n",
    "- Affect the sequential flow of control by executing different statements based on the value of a Boolean expression."
   ]
  },
  {
   "cell_type": "code",
   "execution_count": 18,
   "metadata": {
    "vscode": {
     "languageId": "html"
    }
   },
   "outputs": [
    {
     "ename": "SyntaxError",
     "evalue": "invalid syntax (3388684654.py, line 3)",
     "output_type": "error",
     "traceback": [
      "\u001b[0;36m  Cell \u001b[0;32mIn[18], line 3\u001b[0;36m\u001b[0m\n\u001b[0;31m    <block of statements>\u001b[0m\n\u001b[0m    ^\u001b[0m\n\u001b[0;31mSyntaxError\u001b[0m\u001b[0;31m:\u001b[0m invalid syntax\n"
     ]
    }
   ],
   "source": [
    "IF (condition)\n",
    "{\n",
    "\t<block of statements>\n",
    "}\n",
    "\n",
    "The code in <block of statements> is executed if the Boolean expression condition evaluates to true; no action is taken if condition evaluates to false.\n",
    "\n",
    "IF (condition)\n",
    "{\n",
    "\t<block of statements>\n",
    "}\n",
    "ELSE\n",
    "{\n",
    "\t<second block of statements>\n",
    "}\n",
    "\n",
    "The code in the first <block of statements> is executed if the Boolean expression condition evaluates to true; otherwise, the code in <second block of statements> is executed."
   ]
  },
  {
   "cell_type": "markdown",
   "metadata": {},
   "source": [
    "<b>Example:</b> Calculate the sum of 2 numbers. If the sum is greater than 10, display 10; otherwise, display the sum."
   ]
  },
  {
   "cell_type": "code",
   "execution_count": null,
   "metadata": {
    "vscode": {
     "languageId": "html"
    }
   },
   "outputs": [],
   "source": [
    "num1 = INPUT\n",
    "num2 = INPUT\n",
    "sum = num1 + num2\n",
    "IF (sum > 10)\n",
    "{\n",
    "\tDISPLAY (10)\n",
    "}\n",
    "ELSE\n",
    "{\n",
    "\tDISPLAY (sum)\n",
    "}"
   ]
  },
  {
   "cell_type": "markdown",
   "metadata": {},
   "source": [
    "# Hack 1\n",
    "\n",
    "- Add a variable that represents an age.\n",
    "\n",
    "- Add an 'if' and 'print' function that says \"You are an adult\" if your age is greater than or equal to 18.\n",
    "\n",
    "- Make a function that prints \"You are a minor\" with the else function."
   ]
  },
  {
   "cell_type": "code",
   "execution_count": null,
   "metadata": {},
   "outputs": [],
   "source": [
    "## YOUR CODE HERE\n",
    "# Step 1: Add a variable that represents an age\n",
    "age = 16\n",
    "\n",
    "if age >= 18:\n",
    "    print(\"You are an adult\")\n",
    "\n",
    "else:\n",
    "    print(\"You are a minor\")"
   ]
  },
  {
   "cell_type": "markdown",
   "metadata": {},
   "source": [
    "## <mark><b>Relational operators:</b></mark> \n",
    "- Used to test the relationship between 2 variables, expressions, or values. These relational operators are used for comparisons and they evaluate to a Boolean value (true or false).\n",
    "\n",
    "<b>Ex.</b> a == b evaluates to true if a and b are equal, otherwise evaluates to false\n",
    "\n",
    "- a == b (equals)\t\n",
    "- a != b (not equal to)\n",
    "- a > b (greater than)\n",
    "- a < b (less than)\n",
    "- a >= b (greater than or equal to)\n",
    "- a <= b (less than or equal to)"
   ]
  },
  {
   "cell_type": "markdown",
   "metadata": {},
   "source": [
    "<b>Example:</b> The legal age to work in California is 14 years old. How would we write a Boolean expression to check if someone is at least 14 years old?\n",
    "\n",
    "age >= 14"
   ]
  },
  {
   "cell_type": "markdown",
   "metadata": {},
   "source": [
    "<b>Example:</b> Write a Boolean expression to check if the average of height1, height2, and height3 is at least 65 inches.\n",
    "\n",
    "(height1 + height2 + height3) / 3 >= 65"
   ]
  },
  {
   "cell_type": "markdown",
   "metadata": {},
   "source": [
    "# Hack 2\n",
    "\n",
    "- Make a variable called 'is_raining' and set it to 'True\".\n",
    "\n",
    "- Make an if statement that prints \"Bring an umbrella!\" if it is true\n",
    "\n",
    "- Make an else statement that says \"The weather is clear\"."
   ]
  },
  {
   "cell_type": "code",
   "execution_count": null,
   "metadata": {},
   "outputs": [],
   "source": [
    "is_raining = True\n",
    "\n",
    "if is_raining:\n",
    "    print(\"Bring an umbrella!\")\n",
    "\n",
    "else:\n",
    "    print(\"The weather is clear\")\n"
   ]
  },
  {
   "cell_type": "markdown",
   "metadata": {},
   "source": [
    "## <mark><b>Logical operators:</b></mark>\n",
    "Used to evaluate multiple conditions to produce a single Boolean value.\n",
    "\n",
    "- <b>NOT</b>\tevaluates to true if condition is false, otherwise evaluates to false\n",
    "- <b>AND</b>\tevaluates to true if both conditions are true, otherwise evaluates to false\n",
    "- <b>OR</b>\tevaluates to true if either condition is true or if both conditions are true, otherwise evaluates to false"
   ]
  },
  {
   "cell_type": "markdown",
   "metadata": {},
   "source": [
    "<b>Example:</b> You win the game if you score at least 10 points and have 5 lives left or if you score at least 50 points and have more than 0 lives left. Write the Boolean expression for this scenario.\n",
    "\n",
    "(score >= 10 AND lives == 5) OR (score == 50 AND lives > 0)"
   ]
  },
  {
   "cell_type": "markdown",
   "metadata": {},
   "source": [
    "## <mark><b>Relational and logical operators:</b></mark>\n",
    "\n",
    "<b>Example:</b> These expressions are all different but will produce the same result.\n",
    "\n",
    "- age >= 16\n",
    "- age > 16 OR age == 16\n",
    "- NOT age < 16"
   ]
  },
  {
   "cell_type": "markdown",
   "metadata": {},
   "source": [
    "# Hack 3\n",
    "\n",
    "- Make a function to randomize numbers between 0 and 100 to be assigned to variables a and b using random.randint\n",
    "\n",
    "- Print the values of the variables\n",
    "\n",
    "- Print the relationship of the variables; a is more than, same as, or less than b"
   ]
  },
  {
   "cell_type": "code",
   "execution_count": 22,
   "metadata": {},
   "outputs": [
    {
     "name": "stdout",
     "output_type": "stream",
     "text": [
      "80\n",
      "66\n",
      "a is greater than b\n"
     ]
    }
   ],
   "source": [
    "import random\n",
    "\n",
    "def randomize_numbers():\n",
    "    a = random.randint(0, 100)\n",
    "    b = random.randint(0, 100)\n",
    "    return a, b  \n",
    "\n",
    "a, b = randomize_numbers()  \n",
    "\n",
    "print(a)\n",
    "print(b)\n",
    "\n",
    "if a > b:\n",
    "    print(\"a is greater than b\")\n",
    "elif a == b:  \n",
    "    print(\"a equals b\")\n",
    "else:\n",
    "    print(\"a is less than b\")\n"
   ]
  },
  {
   "cell_type": "markdown",
   "metadata": {},
   "source": [
    "## <b>Homework</b>\n",
    "\n",
    "### Criteria for above 90%:\n",
    "- Add more questions relating to Boolean rather than only one per topic (ideas: expand on conditional statements, relational/logical operators)\n",
    "- Add a way to organize the user scores (possibly some kind of leaderboard, keep track of high score vs. current score, etc. Get creative!)\n",
    "- Remember to test your code to make sure it functions correctly."
   ]
  },
  {
   "cell_type": "code",
   "execution_count": 19,
   "metadata": {},
   "outputs": [
    {
     "name": "stdout",
     "output_type": "stream",
     "text": [
      "Hello, Rayane. You will be asked 5 questions.\n",
      "Question: True or False: In Python, Boolean values can only be True or False.\n",
      "Correct!\n",
      "Question: Which of the following evaluates to False? (a) 'True and False' (b) 'True or False'\n",
      "Correct!\n",
      "Question: What will be the output of the following code?\n",
      "if False:\n",
      "  print('Hello')\n",
      "else:\n",
      "  print('World')\n",
      "Correct!\n",
      "Question: Which of the following is a relational operator in Python? (a) && (b) <= (c) ||\n",
      "Correct!\n",
      "Question: Which of the following is not a logical operator in Python? (a) and (b) or (c) not (d) &\n",
      "Correct!\n",
      "Rayane, you scored 5/5 which is 100.00%\n",
      "\n",
      "---Leaderboard---\n",
      "Rayane: 100.00%\n"
     ]
    }
   ],
   "source": [
    "##Homework\n",
    "\n",
    "import getpass  # Module to get the user's name\n",
    "import sys  # Module to access system-related information\n",
    "\n",
    "# Function to ask a question and get a response\n",
    "def question_with_response(prompt, correct_answer):\n",
    "    # Print the question\n",
    "    print(\"Question: \" + prompt)\n",
    "    # Get user input as the response\n",
    "    response = input(\"Your Answer: \")\n",
    "    if response.lower() == correct_answer.lower():\n",
    "        return True\n",
    "    else:\n",
    "        return False\n",
    "\n",
    "# Leaderboard system\n",
    "scores = {}\n",
    "\n",
    "# Define the number of questions and initialize the correct answers counter\n",
    "questions_count = 5\n",
    "correct = 0\n",
    "\n",
    "# Personalized greeting message\n",
    "# Collect the student's name\n",
    "user_name = input(\"Enter your name: \")\n",
    "\n",
    "if user_name in scores:\n",
    "    print(f'Welcome back, {user_name}! Your previous score was {scores[user_name]}.')\n",
    "\n",
    "print('Hello, ' + user_name + \". You will be asked \" + str(questions_count) + \" questions.\")\n",
    "answer = input(\"Are you ready to take a test? (yes/no) \")\n",
    "\n",
    "if answer.lower() == 'yes':\n",
    "    # Question 1: Boolean Basics \n",
    "    if question_with_response(\"True or False: In Python, Boolean values can only be True or False.\", \"True\"):\n",
    "        correct += 1\n",
    "        print(\"Correct!\")\n",
    "    else:\n",
    "        print(\"Wrong. The correct answer is True.\")\n",
    "    \n",
    "    # Question 2: Boolean Expressions\n",
    "    if question_with_response(\"Which of the following evaluates to False? (a) 'True and False' (b) 'True or False'\", \"a\"):\n",
    "        correct += 1\n",
    "        print(\"Correct!\")\n",
    "    else:\n",
    "        print(\"Wrong. The correct answer is (a) 'True and False'.\")\n",
    "\n",
    "    # Question 3: Conditional Statements\n",
    "    if question_with_response(\"What will be the output of the following code?\\nif False:\\n  print('Hello')\\nelse:\\n  print('World')\", \"World\"):\n",
    "        correct += 1\n",
    "        print(\"Correct!\")\n",
    "    else:\n",
    "        print(\"Wrong. The correct output is 'World'.\")\n",
    "    \n",
    "    # Question 4: Relational Operators\n",
    "    if question_with_response(\"Which of the following is a relational operator in Python? (a) && (b) <= (c) ||\", \"b\"):\n",
    "        correct += 1\n",
    "        print(\"Correct!\")\n",
    "    else:\n",
    "        print(\"Wrong. The correct answer is (b) <=.\")\n",
    "\n",
    "    # Question 5: Logical Operators\n",
    "    if question_with_response(\"Which of the following is not a logical operator in Python? (a) and (b) or (c) not (d) &\", \"d\"):\n",
    "        correct += 1\n",
    "        print(\"Correct!\")\n",
    "    else:\n",
    "        print(\"Wrong. The correct answer is (d) &.\")\n",
    "    \n",
    "    # Display the final score\n",
    "    score = (correct / questions_count) * 100\n",
    "    print(f\"{user_name}, you scored {correct}/{questions_count} which is {score:.2f}%\")\n",
    "    \n",
    "    # Update the score in leaderboard\n",
    "    scores[user_name] = score\n",
    "    print(\"\\n---Leaderboard---\")\n",
    "    sorted_scores = dict(sorted(scores.items(), key=lambda item: item[1], reverse=True))\n",
    "    for key, value in sorted_scores.items():\n",
    "        print(f\"{key}: {value:.2f}%\")\n",
    "    \n",
    "else:\n",
    "    print(\"Okay, maybe next time!\")\n",
    "\n"
   ]
  }
 ],
 "metadata": {
  "kernelspec": {
   "display_name": "Python 3",
   "language": "python",
   "name": "python3"
  },
  "language_info": {
   "codemirror_mode": {
    "name": "ipython",
    "version": 3
   },
   "file_extension": ".py",
   "mimetype": "text/x-python",
   "name": "python",
   "nbconvert_exporter": "python",
   "pygments_lexer": "ipython3",
   "version": "3.11.4"
  }
 },
 "nbformat": 4,
 "nbformat_minor": 2
}
