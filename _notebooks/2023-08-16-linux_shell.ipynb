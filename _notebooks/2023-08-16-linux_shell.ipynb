{
 "cells": [
  {
   "attachments": {},
   "cell_type": "markdown",
   "metadata": {},
   "source": [
    "---\n",
    "layout: post\n",
    "title: Linux Shell and Bash\n",
    "description: A Tech Talk on Linux and the Bash shell.\n",
    "toc: true\n",
    "comments: true\n",
    "categories: [5.A, C4.1]\n",
    "courses: { csp: {week: 0} }\n",
    "type: devops\n",
    "---"
   ]
  },
  {
   "attachments": {},
   "cell_type": "markdown",
   "metadata": {},
   "source": [
    "## Bash Tutorial\n",
    "> A brief overview of Bash, on your way to becoming a Linux expert.  When a computer boots up, a kernel (MacOS, Windows, Linux) is started.  This kernel provides a shell that allows user to interact with a most basic set of commands.  Typically, the casual user will not interact with the shell as a Desktop User Interface is started by the computer boot up process.  To activate a shell directly, users will run a \"terminal\" through the Desktop. VS Code provides ability to activate \"terminal\" while in the IDE."
   ]
  },
  {
   "attachments": {},
   "cell_type": "markdown",
   "metadata": {},
   "source": [
    "## Prerequisites\n",
    "> Setup bash shell dependency variables for this page.\n",
    "\n",
    "- Hack: Change variables to match your project."
   ]
  },
  {
   "cell_type": "code",
   "execution_count": 1,
   "metadata": {
    "vscode": {
     "languageId": "shellscript"
    }
   },
   "outputs": [],
   "source": [
    "%%script bash\n",
    "\n",
    "# Dependency Variables, set to match your project directories\n",
    "\n",
    "cat <<EOF > /tmp/variables.sh\n",
    "export project_dir=$HOME/vscode  # change vscode to different name to test git clone\n",
    "export project=\\$project_dir/teacher  # change teacher to name of project from git clone\n",
    "export project_repo=\"https://github.com/nighthawkcoders/teacher.git\"  # change to project of choice\n",
    "EOF"
   ]
  },
  {
   "cell_type": "code",
   "execution_count": 2,
   "metadata": {
    "vscode": {
     "languageId": "shellscript"
    }
   },
   "outputs": [
    {
     "name": "stdout",
     "output_type": "stream",
     "text": [
      "Project dir: /Users/rayanesouissi/vscode\n",
      "Project: /Users/rayanesouissi/vscode/teacher\n",
      "Repo: https://github.com/nighthawkcoders/teacher.git\n"
     ]
    }
   ],
   "source": [
    "%%script bash\n",
    "\n",
    "# Extract saved variables\n",
    "source /tmp/variables.sh\n",
    "\n",
    "# Access the variables\n",
    "echo \"Project dir: $project_dir\"\n",
    "echo \"Project: $project\"\n",
    "echo \"Repo: $project_repo\""
   ]
  },
  {
   "attachments": {},
   "cell_type": "markdown",
   "metadata": {},
   "source": [
    "## Setup Project\n",
    "> Pull code from GitHub to your machine. This script will create a project directory and add \"project\" from GitHub to the vscode directory.  There is conditional logic to make sure that clone only happen if it does not (!) exist."
   ]
  },
  {
   "cell_type": "code",
   "execution_count": 3,
   "metadata": {
    "vscode": {
     "languageId": "shellscript"
    }
   },
   "outputs": [
    {
     "name": "stdout",
     "output_type": "stream",
     "text": [
      "Using conditional statement to create a project directory and project\n",
      "Directory /Users/rayanesouissi/vscode exists.\n",
      "Directory /Users/rayanesouissi/vscode/teacher exists.\n"
     ]
    }
   ],
   "source": [
    "%%script bash\n",
    "\n",
    "# Extract saved variables\n",
    "source /tmp/variables.sh\n",
    "\n",
    "echo \"Using conditional statement to create a project directory and project\"\n",
    "\n",
    "cd ~    # start in home directory\n",
    "\n",
    "# Conditional block to make a project directory\n",
    "if [ ! -d $project_dir ]\n",
    "then \n",
    "    echo \"Directory $project_dir does not exists... makinng directory $project_dir\"\n",
    "    mkdir -p $project_dir\n",
    "fi\n",
    "echo \"Directory $project_dir exists.\" \n",
    "\n",
    "# Conditional block to git clone a project from project_repo\n",
    "if [ ! -d $project ]\n",
    "then\n",
    "    echo \"Directory $project does not exists... cloning $project_repo\"\n",
    "    cd $project_dir\n",
    "    git clone $project_repo\n",
    "    cd ~\n",
    "fi\n",
    "echo \"Directory $project exists.\" "
   ]
  },
  {
   "attachments": {},
   "cell_type": "markdown",
   "metadata": {},
   "source": [
    "### Look at files Github project\n",
    "> All computers contain files and directories.  The clone brought more files from cloud to your machine.  Review the bash shell script observe the commands that show and interact with files and directories.\n",
    "\n",
    "- \"ls\" lists computer files in Unix and Unix-like operating systems\n",
    "- \"cd\" offers way to navigate and change working directory\n",
    "- \"pwd\" print working directory\n",
    "- \"echo\" used to display line of text/string that are passed as an argument"
   ]
  },
  {
   "cell_type": "code",
   "execution_count": 4,
   "metadata": {
    "vscode": {
     "languageId": "shellscript"
    }
   },
   "outputs": [
    {
     "name": "stdout",
     "output_type": "stream",
     "text": [
      "Navigate to project, then navigate to area wwhere files were cloned\n",
      "/Users/rayanesouissi/vscode/teacher\n",
      "\n",
      "list top level or root of files with project pulled from github\n",
      "Gemfile\n",
      "Gemfile.lock\n",
      "LICENSE\n",
      "Makefile\n",
      "README.md\n",
      "_config.yml\n",
      "\u001b[34m_data\u001b[m\u001b[m\n",
      "\u001b[34m_includes\u001b[m\u001b[m\n",
      "\u001b[34m_layouts\u001b[m\u001b[m\n",
      "\u001b[34m_notebooks\u001b[m\u001b[m\n",
      "\u001b[34m_posts\u001b[m\u001b[m\n",
      "\u001b[34m_site\u001b[m\u001b[m\n",
      "\u001b[34massets\u001b[m\u001b[m\n",
      "csa.md\n",
      "csp.md\n",
      "csse.md\n",
      "\u001b[34mimages\u001b[m\u001b[m\n",
      "index.md\n",
      "indexBlogs.md\n",
      "\u001b[34mscripts\u001b[m\u001b[m\n"
     ]
    }
   ],
   "source": [
    "%%script bash\n",
    "\n",
    "# Extract saved variables\n",
    "source /tmp/variables.sh\n",
    "\n",
    "echo \"Navigate to project, then navigate to area wwhere files were cloned\"\n",
    "cd $project\n",
    "pwd\n",
    "\n",
    "echo \"\"\n",
    "echo \"list top level or root of files with project pulled from github\"\n",
    "ls\n"
   ]
  },
  {
   "attachments": {},
   "cell_type": "markdown",
   "metadata": {},
   "source": [
    "### Look at file list with hidden and long attributes\n",
    "> Most linux commands have options to enhance behavior\n",
    "\n",
    "[ls reference](https://www.rapidtables.com/code/linux/ls.html)"
   ]
  },
  {
   "cell_type": "code",
   "execution_count": 5,
   "metadata": {
    "vscode": {
     "languageId": "shellscript"
    }
   },
   "outputs": [
    {
     "name": "stdout",
     "output_type": "stream",
     "text": [
      "Navigate to project, then navigate to area wwhere files were cloned\n",
      "/Users/rayanesouissi/vscode/teacher\n",
      "\n",
      "list all files in long format\n",
      "total 120\n",
      "drwxr-xr-x  25 rayanesouissi  staff   800 Sep 15 10:39 \u001b[34m.\u001b[m\u001b[m\n",
      "drwxr-xr-x   5 rayanesouissi  staff   160 Aug 16 22:00 \u001b[34m..\u001b[m\u001b[m\n",
      "drwxr-xr-x  14 rayanesouissi  staff   448 Sep 20 11:30 \u001b[34m.git\u001b[m\u001b[m\n",
      "drwxr-xr-x   3 rayanesouissi  staff    96 Aug 16 21:48 \u001b[34m.github\u001b[m\u001b[m\n",
      "-rw-r--r--   1 rayanesouissi  staff   176 Sep  5 09:58 .gitignore\n",
      "-rw-r--r--   1 rayanesouissi  staff   122 Aug 16 21:48 Gemfile\n",
      "-rw-r--r--   1 rayanesouissi  staff  7348 Sep  5 10:00 Gemfile.lock\n",
      "-rw-r--r--   1 rayanesouissi  staff  1081 Aug 16 21:48 LICENSE\n",
      "-rw-r--r--   1 rayanesouissi  staff  3136 Sep  5 09:58 Makefile\n",
      "-rw-r--r--   1 rayanesouissi  staff  6853 Sep  5 09:58 README.md\n",
      "-rw-r--r--   1 rayanesouissi  staff   607 Aug 16 21:48 _config.yml\n",
      "drwxr-xr-x   6 rayanesouissi  staff   192 Aug 16 21:48 \u001b[34m_data\u001b[m\u001b[m\n",
      "drwxr-xr-x  13 rayanesouissi  staff   416 Sep 15 10:39 \u001b[34m_includes\u001b[m\u001b[m\n",
      "drwxr-xr-x   6 rayanesouissi  staff   192 Sep  5 09:58 \u001b[34m_layouts\u001b[m\u001b[m\n",
      "drwxr-xr-x  65 rayanesouissi  staff  2080 Sep 20 11:30 \u001b[34m_notebooks\u001b[m\u001b[m\n",
      "drwxr-xr-x  69 rayanesouissi  staff  2208 Sep 15 10:39 \u001b[34m_posts\u001b[m\u001b[m\n",
      "drwxr-xr-x  32 rayanesouissi  staff  1024 Sep  5 10:00 \u001b[34m_site\u001b[m\u001b[m\n",
      "drwxr-xr-x   4 rayanesouissi  staff   128 Aug 16 21:48 \u001b[34massets\u001b[m\u001b[m\n",
      "-rw-r--r--   1 rayanesouissi  staff    92 Aug 16 21:48 csa.md\n",
      "-rw-r--r--   1 rayanesouissi  staff    98 Aug 16 21:48 csp.md\n",
      "-rw-r--r--   1 rayanesouissi  staff   108 Aug 16 21:48 csse.md\n",
      "drwxr-xr-x  40 rayanesouissi  staff  1280 Sep 15 10:39 \u001b[34mimages\u001b[m\u001b[m\n",
      "-rw-r--r--   1 rayanesouissi  staff  5162 Sep 15 10:39 index.md\n",
      "-rw-r--r--   1 rayanesouissi  staff    53 Aug 16 21:48 indexBlogs.md\n",
      "drwxr-xr-x   9 rayanesouissi  staff   288 Sep  5 09:59 \u001b[34mscripts\u001b[m\u001b[m\n"
     ]
    }
   ],
   "source": [
    "%%script bash\n",
    "\n",
    "# Extract saved variables\n",
    "source /tmp/variables.sh\n",
    "\n",
    "echo \"Navigate to project, then navigate to area wwhere files were cloned\"\n",
    "cd $project\n",
    "pwd\n",
    "\n",
    "echo \"\"\n",
    "echo \"list all files in long format\"\n",
    "ls -al   # all files -a (hidden) in -l long listing"
   ]
  },
  {
   "cell_type": "code",
   "execution_count": 6,
   "metadata": {
    "vscode": {
     "languageId": "shellscript"
    }
   },
   "outputs": [
    {
     "name": "stdout",
     "output_type": "stream",
     "text": [
      "Look for posts\n",
      "/Users/rayanesouissi/vscode/teacher/_posts\n",
      "total 1720\n",
      "-rw-r--r--  1 rayanesouissi  staff  61997 Sep  5 09:59 2023-07-15-machine_learning_IPYNB_2_.md\n",
      "-rw-r--r--  1 rayanesouissi  staff  35434 Sep  5 09:59 2023-07-29-cloud-workspace-automation_IPYNB_2_.md\n",
      "-rw-r--r--  1 rayanesouissi  staff   9659 Sep  5 09:59 2023-07-29-cloud_database_IPYNB_2_.md\n",
      "-rw-r--r--  1 rayanesouissi  staff   2811 Sep  5 09:59 2023-07-30-mario_overview_IPYNB_2_.md\n",
      "-rw-r--r--  1 rayanesouissi  staff   7060 Sep  5 09:59 2023-08-01-mario_player_IPYNB_2_.md\n",
      "-rw-r--r--  1 rayanesouissi  staff  10258 Sep  5 09:59 2023-08-02-mario_platform_IPYNB_2_.md\n",
      "-rw-r--r--  1 rayanesouissi  staff  16451 Sep  5 09:59 2023-08-03-mario_tube_IPYNB_2_.md\n",
      "-rw-r--r--  1 rayanesouissi  staff  18874 Sep  5 09:59 2023-08-04-mario_block_IPYNB_2_.md\n",
      "-rw-r--r--  1 rayanesouissi  staff  19318 Sep  5 09:59 2023-08-05-mario_goomba_IPYNB_2_.md\n",
      "-rw-r--r--  1 rayanesouissi  staff  22629 Sep  5 09:59 2023-08-06-mario_background_IPYNB_2_.md\n",
      "-rw-r--r--  1 rayanesouissi  staff   7827 Sep  5 09:59 2023-08-15-java-hello_IPYNB_2_.md\n",
      "-rw-r--r--  1 rayanesouissi  staff   7685 Aug 16 21:48 2023-08-16-Tools_Equipment.md\n",
      "-rw-r--r--  1 rayanesouissi  staff  20405 Sep  5 09:59 2023-08-16-github_pages_setup_IPYNB_2_.md\n",
      "-rw-r--r--  1 rayanesouissi  staff  10337 Sep  5 09:59 2023-08-16-linux_shell_IPYNB_2_.md\n",
      "-rw-r--r--  1 rayanesouissi  staff   4650 Sep  5 09:58 2023-08-16-pair_programming.md\n",
      "-rw-r--r--  1 rayanesouissi  staff   8691 Sep  5 09:59 2023-08-16-python_hello_IPYNB_2_.md\n",
      "-rw-r--r--  1 rayanesouissi  staff   7139 Sep  5 09:58 2023-08-17-markdown-html_fragments.md\n",
      "-rw-r--r--  1 rayanesouissi  staff   4687 Sep  5 09:58 2023-08-21-python_flask.md\n",
      "-rw-r--r--  1 rayanesouissi  staff   8841 Sep  5 09:59 2023-08-23-github_pages_anatomy_IPYNB_2_.md\n",
      "-rw-r--r--  1 rayanesouissi  staff  18680 Sep  5 09:59 2023-08-23-java-console_games_IPYNB_2_.md\n",
      "-rw-r--r--  1 rayanesouissi  staff   6670 Sep  5 09:58 2023-08-23-javascript-calculator.md\n",
      "-rw-r--r--  1 rayanesouissi  staff   6505 Sep  5 09:59 2023-08-23-python_tricks_IPYNB_2_.md\n",
      "-rw-r--r--  1 rayanesouissi  staff   6316 Sep  5 09:59 2023-08-29-basics-of-js_IPYNB_2_.md\n",
      "-rw-r--r--  1 rayanesouissi  staff  11341 Sep 15 10:39 2023-08-30-agile_methodolgy.md\n",
      "-rw-r--r--  1 rayanesouissi  staff   4397 Sep 15 10:39 2023-08-30-javascript-music-api.md\n",
      "-rw-r--r--  1 rayanesouissi  staff   2336 Sep  5 09:59 2023-08-30-javascript_grab_IPYNB_2_.md\n",
      "-rw-r--r--  1 rayanesouissi  staff   5592 Sep  5 09:59 2023-08-30-js-with-html_IPYNB_2_.md\n",
      "-rw-r--r--  1 rayanesouissi  staff   8735 Sep  5 09:59 2023-08-30-showcase-S1-pair_IPYNB_2_.md\n",
      "-rw-r--r--  1 rayanesouissi  staff  10874 Sep  5 09:59 2023-09-06-java-primitives_IPYNB_2_.md\n",
      "-rw-r--r--  1 rayanesouissi  staff   8046 Sep  5 09:59 2023-09-06-javascript-input_IPYNB_2_.md\n",
      "-rw-r--r--  1 rayanesouissi  staff   5312 Sep  5 09:58 2023-09-06-javascript-motion-mario-oop.md\n",
      "-rw-r--r--  1 rayanesouissi  staff  10350 Sep  5 10:00 2023-09-06-javascript-output-jquery_IPYNB_2_.md\n",
      "-rw-r--r--  1 rayanesouissi  staff   5500 Sep  5 10:00 2023-09-06-python-flask_in_jupyter_IPYNB_2_.md\n",
      "-rw-r--r--  1 rayanesouissi  staff    263 Sep 15 10:39 2023-09-10-users-db.md\n",
      "-rw-r--r--  1 rayanesouissi  staff  11627 Sep  5 10:00 2023-09-12-AP-python_lists_IPYNB_2_.md\n",
      "-rw-r--r--  1 rayanesouissi  staff  10489 Sep  5 10:00 2023-09-12-java_menu_class_IPYNB_2_.md\n",
      "-rw-r--r--  1 rayanesouissi  staff   1878 Sep 15 10:39 2023-09-12-javascript-calculator-reviews.md\n",
      "-rw-r--r--  1 rayanesouissi  staff   5212 Sep  5 10:00 2023-09-12-python-flask-anatomy_IPYNB_2_.md\n",
      "-rw-r--r--  1 rayanesouissi  staff   3688 Sep  5 09:58 2023-09-12-python-flask-repo.md\n",
      "-rw-r--r--  1 rayanesouissi  staff   2845 Sep 15 10:39 2023-09-12-unit-1-summary.md\n",
      "-rw-r--r--  1 rayanesouissi  staff   6708 Sep  5 10:00 2023-09-13-java_fibonaccii_class_IPYNB_2_.md\n",
      "-rw-r--r--  1 rayanesouissi  staff  24360 Sep  5 10:00 2023-09-13-javascript_output_api_IPYNB_2_.md\n",
      "-rw-r--r--  1 rayanesouissi  staff   4737 Sep  5 10:00 2023-09-13-python-errors_fries_IPYNB_2_.md\n",
      "-rw-r--r--  1 rayanesouissi  staff  21670 Sep  5 10:00 2023-09-13-python-pandas_intro_IPYNB_2_.md\n",
      "-rw-r--r--  1 rayanesouissi  staff   5256 Sep 15 10:39 2023-09-14-java-free_response.md\n",
      "-rw-r--r--  1 rayanesouissi  staff   6173 Sep 15 10:39 2023-09-14-javascript-binary-U2-1.md\n",
      "-rw-r--r--  1 rayanesouissi  staff    804 Sep 15 10:39 2023-09-15-java-free_response_showcase.md\n",
      "-rw-r--r--  1 rayanesouissi  staff  17201 Sep  5 10:00 2023-09-17-python-images-U2-2_IPYNB_2_.md\n",
      "-rw-r--r--  1 rayanesouissi  staff  24421 Sep  5 10:00 2023-09-18-python-pandas-U2-3_IPYNB_2_.md\n",
      "-rw-r--r--  1 rayanesouissi  staff  27805 Sep  5 10:00 2023-09-19-python-sql-U2-4a_IPYNB_2_.md\n",
      "-rw-r--r--  1 rayanesouissi  staff   7491 Sep  5 10:00 2023-09-19-python-sql-U2-4b_IPYNB_2_.md\n",
      "-rw-r--r--  1 rayanesouissi  staff   8410 Sep  5 10:00 2023-09-20-java-image_2D_IPYNB_2_.md\n",
      "-rw-r--r--  1 rayanesouissi  staff  19197 Sep  5 10:00 2023-09-20-javascript_motion_dog_IPYNB_2_.md\n",
      "-rw-r--r--  1 rayanesouissi  staff  16463 Sep  5 10:00 2023-09-27-aws-deployment_IPYNB_2_.md\n",
      "-rw-r--r--  1 rayanesouissi  staff    371 Sep 15 10:39 2023-09-28-java-spring-passion-idea.md\n",
      "-rw-r--r--  1 rayanesouissi  staff    385 Sep 15 10:39 2023-09-28-java-spring_passion.md\n",
      "-rw-r--r--  1 rayanesouissi  staff   2404 Sep 15 10:39 2023-09-28-java-student-teach-tri1.md\n",
      "-rw-r--r--  1 rayanesouissi  staff   9963 Sep  5 10:00 2023-10-02-java-spring-anatomy_IPYNB_2_.md\n",
      "-rw-r--r--  1 rayanesouissi  staff   9823 Sep  5 10:00 2023-10-09-java-chatgpt_IPYNB_2_.md\n",
      "-rw-r--r--  1 rayanesouissi  staff  11058 Sep  5 10:00 2023-10-09-javascript_api_IPYNB_2_.md\n",
      "-rw-r--r--  1 rayanesouissi  staff  21533 Sep  5 10:00 2023-10-09-python_machine_learing_fitness_IPYNB_2_.md\n",
      "-rw-r--r--  1 rayanesouissi  staff  13219 Sep  5 09:58 2023-10-16-java-api-pojo-jpa.md\n",
      "-rw-r--r--  1 rayanesouissi  staff  13998 Sep  5 10:00 2023-10-16-java_jpa_IPYNB_2_.md\n",
      "-rw-r--r--  1 rayanesouissi  staff   6819 Aug 16 21:48 2023-11-13-jwt-java-spring.md\n",
      "-rw-r--r--  1 rayanesouissi  staff  12219 Sep  5 10:00 2023-11-13-jwt-python-flask_IPYNB_2_.md\n",
      "-rw-r--r--  1 rayanesouissi  staff  12279 Sep  5 10:00 2023-11-13-vulnerabilities_IPYNB_2_.md\n",
      "-rw-r--r--  1 rayanesouissi  staff   6686 Sep  5 10:00 2024-01-04-cockpit-setup_IPYNB_2_.md\n"
     ]
    }
   ],
   "source": [
    "%%script bash\n",
    "\n",
    "# Extract saved variables\n",
    "source /tmp/variables.sh\n",
    "\n",
    "echo \"Look for posts\"\n",
    "export posts=$project/_posts  # _posts inside project\n",
    "cd $posts  # this should exist per fastpages\n",
    "pwd  # present working directory\n",
    "ls -l  # list posts"
   ]
  },
  {
   "cell_type": "code",
   "execution_count": 7,
   "metadata": {
    "vscode": {
     "languageId": "shellscript"
    }
   },
   "outputs": [
    {
     "name": "stdout",
     "output_type": "stream",
     "text": [
      "Look for notebooks\n",
      "/Users/rayanesouissi/vscode/teacher/_notebooks\n",
      "total 4040\n",
      "-rw-r--r--  1 rayanesouissi  staff  992100 Sep  5 09:58 2023-07-15-machine_learning.ipynb\n",
      "-rw-r--r--  1 rayanesouissi  staff   43705 Sep  5 09:58 2023-07-29-cloud-workspace-automation.ipynb\n",
      "-rw-r--r--  1 rayanesouissi  staff    3584 Sep  5 09:58 2023-07-30-mario_overview.ipynb\n",
      "-rw-r--r--  1 rayanesouissi  staff   10600 Sep  5 09:58 2023-08-01-mario_player.ipynb\n",
      "-rw-r--r--  1 rayanesouissi  staff   14783 Sep  5 09:58 2023-08-02-mario_platform.ipynb\n",
      "-rw-r--r--  1 rayanesouissi  staff   22612 Sep  5 09:58 2023-08-03-mario_tube.ipynb\n",
      "-rw-r--r--  1 rayanesouissi  staff   25779 Sep  5 09:58 2023-08-04-mario_block.ipynb\n",
      "-rw-r--r--  1 rayanesouissi  staff   26462 Sep  5 09:58 2023-08-05-mario_goomba.ipynb\n",
      "-rw-r--r--  1 rayanesouissi  staff   30617 Sep  5 09:58 2023-08-06-mario_background.ipynb\n",
      "-rw-r--r--  1 rayanesouissi  staff   10283 Sep  5 09:58 2023-08-15-java-hello.ipynb\n",
      "-rw-r--r--  1 rayanesouissi  staff   26361 Sep  5 09:58 2023-08-16-github_pages_setup.ipynb\n",
      "-rw-r--r--  1 rayanesouissi  staff   16156 Sep  5 09:58 2023-08-16-linux_shell.ipynb\n",
      "-rw-r--r--  1 rayanesouissi  staff   11466 Sep 15 10:39 2023-08-16-python_hello.ipynb\n",
      "-rw-r--r--  1 rayanesouissi  staff   11158 Sep  5 09:58 2023-08-23-github_pages_anatomy.ipynb\n",
      "-rw-r--r--  1 rayanesouissi  staff   23636 Sep  5 09:58 2023-08-23-java-console_games.ipynb\n",
      "-rw-r--r--  1 rayanesouissi  staff    9663 Sep  5 09:58 2023-08-23-python_tricks.ipynb\n",
      "-rw-r--r--  1 rayanesouissi  staff    1091 Sep 15 10:39 2023-08-28-basics-home.ipynb\n",
      "-rw-r--r--  1 rayanesouissi  staff    4012 Sep 15 10:39 2023-08-28-basics-html.ipynb\n",
      "-rw-r--r--  1 rayanesouissi  staff   11924 Sep 15 10:39 2023-08-29-basics-of-js.ipynb\n",
      "-rw-r--r--  1 rayanesouissi  staff   18177 Sep 15 10:39 2023-08-30-basics-js-data-types.ipynb\n",
      "-rw-r--r--  1 rayanesouissi  staff   16262 Sep 15 10:39 2023-08-30-basics-js-with-html.ipynb\n",
      "-rw-r--r--  1 rayanesouissi  staff    3214 Sep  5 09:58 2023-08-30-javascript_grab.ipynb\n",
      "-rw-r--r--  1 rayanesouissi  staff    9689 Aug 16 21:48 2023-08-30-showcase-S1-pair.ipynb\n",
      "-rw-r--r--  1 rayanesouissi  staff   15223 Sep 15 10:39 2023-09-06-java-primitives.ipynb\n",
      "-rw-r--r--  1 rayanesouissi  staff   12695 Sep 15 10:39 2023-09-06-javascript-input.ipynb\n",
      "-rw-r--r--  1 rayanesouissi  staff   14906 Sep  7 09:55 2023-09-06-javascript-output-jquery.ipynb\n",
      "-rw-r--r--  1 rayanesouissi  staff   10023 Sep 20 11:30 2023-09-06-python-flask_in_jupyter.ipynb\n",
      "-rw-r--r--  1 rayanesouissi  staff   13709 Sep 15 10:39 2023-09-12-java_menu_class.ipynb\n",
      "-rw-r--r--  1 rayanesouissi  staff    7174 Sep  5 09:58 2023-09-12-python-flask-anatomy.ipynb\n",
      "-rw-r--r--  1 rayanesouissi  staff   13183 Sep 15 10:39 2023-09-12-python_lists.ipynb\n"
     ]
    },
    {
     "name": "stdout",
     "output_type": "stream",
     "text": [
      "-rw-r--r--  1 rayanesouissi  staff    9841 Sep 15 10:39 2023-09-13-java_fibonaccii_class.ipynb\n",
      "-rw-r--r--  1 rayanesouissi  staff   25234 Sep 15 10:39 2023-09-13-javascript_output_objects.ipynb\n",
      "-rw-r--r--  1 rayanesouissi  staff   43423 Aug 16 21:48 2023-09-13-python-pandas_intro.ipynb\n",
      "-rw-r--r--  1 rayanesouissi  staff    8478 Sep 21 10:03 2023-09-15-1_4-python-errors.ipynb\n",
      "-rw-r--r--  1 rayanesouissi  staff   22317 Sep 15 10:39 2023-09-17-python-images-U2-2.ipynb\n",
      "-rw-r--r--  1 rayanesouissi  staff   34768 Sep 15 10:39 2023-09-18-python-pandas-U2-3.ipynb\n",
      "-rw-r--r--  1 rayanesouissi  staff   49090 Sep 15 10:39 2023-09-19-python-sql-U2-4a.ipynb\n",
      "-rw-r--r--  1 rayanesouissi  staff   11550 Sep 15 10:39 2023-09-19-python-sql-U2-4b.ipynb\n",
      "-rw-r--r--  1 rayanesouissi  staff   11584 Sep 15 10:39 2023-09-20-java-image_2D.ipynb\n",
      "-rw-r--r--  1 rayanesouissi  staff    4616 Sep 15 10:39 2023-09-20-spritesheet_animation.ipynb\n",
      "-rw-r--r--  1 rayanesouissi  staff   24663 Sep 15 10:39 2023-09-21-javascript_motion_dog.ipynb\n",
      "-rw-r--r--  1 rayanesouissi  staff   22157 Sep 15 10:39 2023-09-27-aws-deployment.ipynb\n",
      "-rw-r--r--  1 rayanesouissi  staff   13599 Sep  5 09:58 2023-10-02-java-spring-anatomy.ipynb\n",
      "-rw-r--r--  1 rayanesouissi  staff   12429 Sep 15 10:39 2023-10-09-java-chatgpt.ipynb\n",
      "-rw-r--r--  1 rayanesouissi  staff   15632 Aug 16 21:48 2023-10-09-javascript_api.ipynb\n",
      "-rw-r--r--  1 rayanesouissi  staff  113091 Aug 16 21:48 2023-10-09-python_machine_learing_fitness.ipynb\n",
      "-rw-r--r--  1 rayanesouissi  staff     562 Sep 15 10:39 2023-10-16-java-u1-student.ipynb\n",
      "-rw-r--r--  1 rayanesouissi  staff     542 Sep 15 10:39 2023-10-16-java-u2-student.ipynb\n",
      "-rw-r--r--  1 rayanesouissi  staff     729 Sep 15 10:39 2023-10-16-java-u3-student.ipynb\n",
      "-rw-r--r--  1 rayanesouissi  staff     543 Sep 15 10:39 2023-10-16-java-u4-student.ipynb\n",
      "-rw-r--r--  1 rayanesouissi  staff     543 Sep 15 10:39 2023-10-16-java-u5-student.ipynb\n",
      "-rw-r--r--  1 rayanesouissi  staff     544 Sep 15 10:39 2023-10-16-java-u6-student.ipynb\n",
      "-rw-r--r--  1 rayanesouissi  staff     542 Sep 15 10:39 2023-10-16-java-u7-student.ipynb\n",
      "-rw-r--r--  1 rayanesouissi  staff     567 Sep 15 10:39 2023-10-16-java-u8-student.ipynb\n",
      "-rw-r--r--  1 rayanesouissi  staff     541 Sep 15 10:39 2023-10-16-java-u9-student.ipynb\n",
      "-rw-r--r--  1 rayanesouissi  staff   20077 Sep  5 09:58 2023-10-16-java_jpa.ipynb\n",
      "-rw-r--r--  1 rayanesouissi  staff     564 Sep 15 10:39 2023-10-17-java-u10-student.ipynb\n",
      "-rw-r--r--  1 rayanesouissi  staff   16271 Aug 16 21:48 2023-11-13-jwt-python-flask.ipynb\n",
      "-rw-r--r--  1 rayanesouissi  staff   15951 Aug 16 21:48 2023-11-13-vulnerabilities.ipynb\n",
      "-rw-r--r--  1 rayanesouissi  staff   18328 Aug 16 21:48 2023-11-20-jwt-java-spring-challenge.md\n",
      "-rw-r--r--  1 rayanesouissi  staff   10745 Aug 16 21:48 2024-01-04-cockpit-setup.ipynb\n",
      "drwxr-xr-x  3 rayanesouissi  staff      96 Aug 16 21:48 \u001b[34mfiles\u001b[m\u001b[m\n"
     ]
    }
   ],
   "source": [
    "%%script bash\n",
    "\n",
    "# Extract saved variables\n",
    "source /tmp/variables.sh\n",
    "\n",
    "echo \"Look for notebooks\"\n",
    "export notebooks=$project/_notebooks  # _notebooks is inside project\n",
    "cd $notebooks   # this should exist per fastpages\n",
    "pwd  # present working directory\n",
    "ls -l  # list notebooks"
   ]
  },
  {
   "cell_type": "code",
   "execution_count": 8,
   "metadata": {
    "vscode": {
     "languageId": "shellscript"
    }
   },
   "outputs": [
    {
     "name": "stdout",
     "output_type": "stream",
     "text": [
      "Look for images in notebooks, print working directory, list files\n",
      "/Users/rayanesouissi/vscode/studentrep/_notebooks\n"
     ]
    },
    {
     "name": "stderr",
     "output_type": "stream",
     "text": [
      "bash: line 6: cd: /images: No such file or directory\n"
     ]
    },
    {
     "name": "stdout",
     "output_type": "stream",
     "text": [
      "total 152\n",
      "-rw-r--r--  1 rayanesouissi  staff   5838 Sep 27 23:47 2023-08-16-JS-Basics-Test.ipynb\n",
      "-rw-r--r--  1 rayanesouissi  staff  32137 Sep  7 09:54 2023-08-16-linux_shell.ipynb\n",
      "-rw-r--r--  1 rayanesouissi  staff   5415 Aug 16 22:00 2023-08-17-AP-pseudo-vs-python.ipynb\n",
      "-rw-r--r--  1 rayanesouissi  staff   8615 Aug 16 22:00 2023-08-21-VSCode-GitHub_Pages.ipynb\n",
      "-rw-r--r--  1 rayanesouissi  staff   1394 Sep 12 08:46 2023-08-31-emoji.ipynb\n",
      "-rw-r--r--  1 rayanesouissi  staff   2103 Sep 11 09:52 2023-08-31-soccer-player-salaries-csv.ipynb\n",
      "-rw-r--r--  1 rayanesouissi  staff   2819 Sep 11 21:51 2023-09-06-Sports-Quiz.ipynb\n",
      "-rw-r--r--  1 rayanesouissi  staff   2682 Sep 21 09:58 2023-09-14-team-test-identifying-errors.ipynb\n"
     ]
    }
   ],
   "source": [
    "%%script bash\n",
    "\n",
    "# Extract saved variables\n",
    "source /tmp/variables.sh\n",
    "\n",
    "echo \"Look for images in notebooks, print working directory, list files\"\n",
    "cd $notebooks/images  # this should exist per fastpages\n",
    "pwd\n",
    "ls -l"
   ]
  },
  {
   "attachments": {},
   "cell_type": "markdown",
   "metadata": {},
   "source": [
    "### Look inside a Markdown File\n",
    "> \"cat\" reads data from the file and gives its content as output"
   ]
  },
  {
   "cell_type": "code",
   "execution_count": 9,
   "metadata": {
    "vscode": {
     "languageId": "shellscript"
    }
   },
   "outputs": [
    {
     "name": "stdout",
     "output_type": "stream",
     "text": [
      "Navigate to project, then navigate to area wwhere files were cloned\n",
      "show the contents of README.md\n",
      "\n",
      "## Teacher Blog site\n",
      "This site is intended for the development of Teacher content.  This blogging site is built using GitHub Pages [GitHub Pages](https://docs.github.com/en/pages/getting-started-with-github-pages/creating-a-github-pages-site).\n",
      "- The purpose is to build lessons and distribute across different Computer Science sections (CSSE, CSP, CSA), a pathway that covers 3 years of High School instruction.\n",
      "- The primary languages and frameworks that are taught are `JavaScript/HTML/CSS`, `Python/Flask`, `Java/Spring`.  Read below for more details.\n",
      "- In this course, Teacher content is not exclusively developed by Teachers.  In fact, many Students have been invited to develop and publish content into this repository.  Their names will appear as authors on the content which they aided in producing.\n",
      "- This site has incorporated ideas and has radically modified scripts from the now deprecated [fastpages](https://github.com/fastai/fastpages) repository.\n",
      "- This site includes assistance and guideance from ChatGPT, [chat.openai.com](https://chat.openai.com/) \n",
      "\n",
      "### Courses and Pathway\n",
      "The focus of the Del Norte Computer Science three-year pathway is `Full Stack Web Development`.  This focus provides a variety of technologies and exposures.  The intention of the pathway is breadth and exposure.\n",
      "- `JavaScript` documents are focused on frontend development and for entry class into the Del Norte Computer Science pathway.  JavaScript documents and materials are a prerequisites to Python and Java classes.\n",
      "- `Python` documents are focused on backend development and requirements for the AP Computer Science Principles exam.\n",
      "- `Java` documents are focused on backend development and requirements for the AP Computer Sciene A exam.\n",
      "- `Data Structures` materials embedded into JavaScript, Python, or Java documents are focused on college course articulation.\n",
      "\n",
      "### Resources and Instruction\n",
      "The materials, such as this README, as well as `Tools`, `DevOps`, and `Collaboration` resources are integral part of this course and Computer Science in general.  Everything in our environment is part of our learning of Computer Science. \n",
      "- `Visual Studio Code` is key the code-build-debug cycle editor used in this course, [VSCode download](https://code.visualstudio.com/).  This is an example of a resource, but inside of it it has features for collaboration.\n",
      "- `Tech Talks`, aka lectures, are intended to be interactive and utilize `Jupyter Notebooks` and Websites.  This is an example of blending instruction and tools together, which in turn provide additional resources for learning.  For instance, deep knowledge on  GitHub Pages and Notebooks are valuable in understanding principles behind Full Stack Development and Data Science. \n",
      "\n",
      "## GitHub Pages\n",
      "All `GitHub Pages` websites are managed on GitHub infrastructure. GitHub uses `Jekyll` to tranform your content into static websites and blogs. Each time we change files in GitHub it initiates a GitHub Action that rebuilds and publishes the site with Jekyll.  \n",
      "- GitHub Pages is powered by: [Jekyll](https://jekyllrb.com/).\n",
      "- Publised teacher website: [nighthawkcoders.github.io/teacher](https://nighthawkcoders.github.io/teacher/)\n",
      "\n",
      "## Preparing a Preview Site \n",
      "In all development, it is recommended to test your code before deployment.  The GitHub Pages development process is optimized by testing your development on your local machine, prior to files on GitHub\n",
      "\n",
      "Development Cycle. For GitHub pages, the tooling described below will create a development cycle  `make-code-save-preview`.  In the development cycle, it is a requirement to preview work locally, prior to doing a VSCode `commit` to git.\n",
      "\n",
      "Deployment Cycle.  In the deplopyment cycle, `sync-github-action-review`, it is a requirement to complete the development cycle prior to doing a VSCode `sync`.  The sync triggers github repository update.  The action starts the jekyll build to publish the website.  Any step can have errors and will require you to do a review.\n",
      "\n",
      "### WSL and/or Ubuntu installation requirements\n",
      "- The result of these step is Ubuntu tools to run preview server.  These procedures were created using [jekyllrb.com](https://jekyllrb.com/docs/installation/ubuntu/)\n",
      "```bash\n",
      "# \n",
      "# WSL/Ubuntu setup\n",
      "#\n",
      "mkdir mkdir vscode\n",
      "git clone https://github.com/nighthawkcoders/teacher.git\n",
      "# run script, path vscode/teacher are baked in script\n",
      "~/vscode/teacher/scripts/activate_ubuntu.sh\n",
      "#=== !!!Start a new Terminal!!! ===\n",
      "#=== Continue to next section ===\n",
      "```\n",
      "\n",
      "### MacOs installation requirements \n",
      "- Ihe result of these step are MacOS tools to run preview server.  These procedures were created using [jekyllrb.com](https://jekyllrb.com/docs/installation/macos/). \n",
      "\n",
      "```bash\n",
      "# \n",
      "# MacOS setup\n",
      "#\n",
      "mkdir mkdir vscode\n",
      "git clone https://github.com/nighthawkcoders/teacher.git\n",
      "# run script, path vscode/teacher are baked in script\n",
      "~/vscode/teacher/scripts/activate_macos.sh\n",
      "#=== !!!Start a new Terminal!!! ===\n",
      "#=== Continue to next section ===\n",
      "```\n",
      "\n",
      "\n",
      "### Run Preview Server\n",
      "- The result of these step is server running on: http://0.0.0.0:4100/teacher/.  Regeneration messages will run in terminal on any save and update site upon refresh.  Terminal is active, press the Enter or Return key in the terminal at any time to see prompt to enter commands.\n",
      "\n",
      "- Complete installation\n",
      "```bash\n"
     ]
    },
    {
     "name": "stdout",
     "output_type": "stream",
     "text": [
      "cd ~/vscode/teacher\n",
      "bundle install\n",
      "make\n",
      "```\n",
      "- Run Server.  This requires running terminal commands `make`, `make stop`, `make clean`, or `make convert` to manage the running server.  Logging of details will appear in terminal.   A `Makefile` has been created in project to support commands and start processes.\n",
      "\n",
      "    - Start preview server in terminal\n",
      "    ```bash\n",
      "    cd ~/vscode/teacher  # my project location, adapt as necessary\n",
      "    make\n",
      "    ```\n",
      "\n",
      "    - Terminal output of shows server address. Cmd or Ctl click http location to open preview server in browser. Example Server address message... \n",
      "    ```\n",
      "    Server address: http://0.0.0.0:4100/teacher/\n",
      "    ```\n",
      "\n",
      "    - Save on ipynb or md activiates \"regeneration\". Refresh browser to see updates. Example terminal message...\n",
      "    ```\n",
      "    Regenerating: 1 file(s) changed at 2023-07-31 06:54:32\n",
      "        _notebooks/2024-01-04-cockpit-setup.ipynb\n",
      "    ```\n",
      "\n",
      "    - Terminal message are generated from background processes.  Click return or enter to obtain prompt and use terminal as needed for other tasks.  Alway return to root of project `cd ~/vscode/teacher` for all \"make\" actions. \n",
      "        \n",
      "\n",
      "    - Stop preview server, but leave constructed files in project for your review.\n",
      "    ```bash\n",
      "    make stop\n",
      "    ```\n",
      "\n",
      "    - Stop server and \"clean\" constructed files, best choice when renaming files to eliminate potential duplicates in constructed files.\n",
      "    ```bash\n",
      "    make clean\n",
      "    ```\n",
      "\n",
      "    - Test notebook conversions, best choice to see if IPYNB conversion is acting up.\n",
      "    ```bash\n",
      "    make convert\n",
      "    ```\n",
      "    \n",
      "end of README.md\n"
     ]
    }
   ],
   "source": [
    "%%script bash\n",
    "\n",
    "# Extract saved variables\n",
    "source /tmp/variables.sh\n",
    "\n",
    "echo \"Navigate to project, then navigate to area wwhere files were cloned\"\n",
    "\n",
    "cd $project\n",
    "echo \"show the contents of README.md\"\n",
    "echo \"\"\n",
    "\n",
    "cat README.md  # show contents of file, in this case markdown\n",
    "echo \"\"\n",
    "echo \"end of README.md\"\n"
   ]
  },
  {
   "attachments": {},
   "cell_type": "markdown",
   "metadata": {},
   "source": [
    "### Env, Git and GitHub\n",
    "> Env(ironment) is used to capture things like path to Code or Home directory.  Git and GitHub is NOT Only used to exchange code between individuals, it is often used to exchange code through servers, in our case deployment for Website.   All tools we use have a behind the scenes hav relationship with the system they run on (MacOS, Windows, Linus) or a relationship with servers which they are connected to (ie GitHub).  There is an \"env\" command in bash.  There are environment files and setting files (.git/config) for Git.  They both use a key/value concept.\n",
    "\n",
    "- \"env\" show setting for your shell\n",
    "- \"git clone\" sets up a director of files\n",
    "- \"cd $project\" allows user to move inside that directory of files\n",
    "- \".git\" is a hidden directory that is used by git to establish relationship between machine and the git server on GitHub.  "
   ]
  },
  {
   "cell_type": "code",
   "execution_count": 10,
   "metadata": {
    "vscode": {
     "languageId": "shellscript"
    }
   },
   "outputs": [
    {
     "name": "stdout",
     "output_type": "stream",
     "text": [
      "Show the shell environment variables, key on left of equal value on right\n",
      "\n",
      "MANPATH=/usr/local/share/man::\n",
      "VSCODE_CRASH_REPORTER_PROCESS_TYPE=extensionHost\n",
      "TERM=xterm-color\n",
      "SHELL=/bin/zsh\n",
      "CLICOLOR=1\n",
      "TMPDIR=/var/folders/3r/_pbvf6d522957yhk2jxc75440000gn/T/\n",
      "HOMEBREW_REPOSITORY=/usr/local/Homebrew\n",
      "PYTHONUNBUFFERED=1\n",
      "ORIGINAL_XDG_CURRENT_DESKTOP=undefined\n",
      "MallocNanoZone=0\n",
      "PYDEVD_USE_FRAME_EVAL=NO\n",
      "PYTHONIOENCODING=utf-8\n",
      "USER=rayanesouissi\n",
      "COMMAND_MODE=unix2003\n",
      "SSH_AUTH_SOCK=/private/tmp/com.apple.launchd.5wFZ6MNmH3/Listeners\n",
      "__CF_USER_TEXT_ENCODING=0x1F5:0x0:0x0\n",
      "PAGER=cat\n",
      "ELECTRON_RUN_AS_NODE=1\n",
      "VSCODE_AMD_ENTRYPOINT=vs/workbench/api/node/extensionHostProcess\n",
      "PATH=/usr/local/bin:/Users/rayanesouissi/Library/Python/3.11/bin:/usr/local/bin:/usr/local/sbin:/opt/local/bin:/opt/local/sbin:/usr/local/bin:/usr/bin:/bin:/usr/sbin:/sbin:/usr/local/bin:/usr/local/sbin:/opt/local/bin:/opt/local/sbin:/usr/local/bin:/usr/bin:/bin:/usr/sbin:/sbin\n",
      "__CFBundleIdentifier=com.microsoft.VSCode\n",
      "PWD=/Users/rayanesouissi/vscode/studentrep/_notebooks\n",
      "VSCODE_HANDLES_UNCAUGHT_ERRORS=true\n",
      "MPLBACKEND=module://matplotlib_inline.backend_inline\n",
      "XPC_FLAGS=0x0\n",
      "FORCE_COLOR=1\n",
      "XPC_SERVICE_NAME=0\n",
      "SHLVL=1\n",
      "HOME=/Users/rayanesouissi\n",
      "VSCODE_NLS_CONFIG={\"locale\":\"en-us\",\"osLocale\":\"en-us\",\"availableLanguages\":{},\"_languagePackSupport\":true}\n",
      "PYDEVD_IPYTHON_COMPATIBLE_DEBUGGING=1\n",
      "HOMEBREW_PREFIX=/usr/local\n",
      "LOGNAME=rayanesouissi\n",
      "LC_CTYPE=UTF-8\n",
      "VSCODE_IPC_HOOK=/Users/rayanesouissi/Library/Application Support/Code/1.81-main.sock\n",
      "VSCODE_CODE_CACHE_PATH=/Users/rayanesouissi/Library/Application Support/Code/CachedData/6c3e3dba23e8fadc360aed75ce363ba185c49794\n",
      "CLICOLOR_FORCE=1\n",
      "VSCODE_PID=35861\n",
      "INFOPATH=/usr/local/share/info:\n",
      "HOMEBREW_CELLAR=/usr/local/Cellar\n",
      "GIT_PAGER=cat\n",
      "VSCODE_L10N_BUNDLE_LOCATION=\n",
      "VSCODE_CWD=/\n",
      "_=/usr/bin/env\n"
     ]
    }
   ],
   "source": [
    "%%script bash\n",
    "\n",
    "# This command has no dependencies\n",
    "\n",
    "echo \"Show the shell environment variables, key on left of equal value on right\"\n",
    "echo \"\"\n",
    "\n",
    "env"
   ]
  },
  {
   "cell_type": "code",
   "execution_count": 11,
   "metadata": {
    "vscode": {
     "languageId": "shellscript"
    }
   },
   "outputs": [
    {
     "name": "stdout",
     "output_type": "stream",
     "text": [
      "\n",
      "show the secrets of .git\n",
      "total 88\n",
      "-rw-r--r--   1 rayanesouissi  staff    222 Sep 20 11:10 FETCH_HEAD\n",
      "-rw-r--r--   1 rayanesouissi  staff     21 Aug 16 21:48 HEAD\n",
      "-rw-r--r--   1 rayanesouissi  staff     41 Sep 20 11:10 ORIG_HEAD\n",
      "-rw-r--r--   1 rayanesouissi  staff    312 Aug 16 21:48 config\n",
      "-rw-r--r--   1 rayanesouissi  staff     73 Aug 16 21:48 description\n",
      "drwxr-xr-x  15 rayanesouissi  staff    480 Aug 16 21:48 \u001b[34mhooks\u001b[m\u001b[m\n",
      "-rw-r--r--   1 rayanesouissi  staff  17900 Sep 20 11:30 index\n",
      "drwxr-xr-x   3 rayanesouissi  staff     96 Aug 16 21:48 \u001b[34minfo\u001b[m\u001b[m\n",
      "drwxr-xr-x   4 rayanesouissi  staff    128 Aug 16 21:48 \u001b[34mlogs\u001b[m\u001b[m\n",
      "drwxr-xr-x  84 rayanesouissi  staff   2688 Sep 20 11:10 \u001b[34mobjects\u001b[m\u001b[m\n",
      "-rw-r--r--   1 rayanesouissi  staff    112 Aug 16 21:48 packed-refs\n",
      "drwxr-xr-x   5 rayanesouissi  staff    160 Aug 16 21:48 \u001b[34mrefs\u001b[m\u001b[m\n",
      "\n",
      "look at config file\n",
      "[core]\n",
      "\trepositoryformatversion = 0\n",
      "\tfilemode = true\n",
      "\tbare = false\n",
      "\tlogallrefupdates = true\n",
      "\tignorecase = true\n",
      "\tprecomposeunicode = true\n",
      "[remote \"origin\"]\n",
      "\turl = https://github.com/nighthawkcoders/teacher.git\n",
      "\tfetch = +refs/heads/*:refs/remotes/origin/*\n",
      "[branch \"main\"]\n",
      "\tremote = origin\n",
      "\tmerge = refs/heads/main\n"
     ]
    }
   ],
   "source": [
    "%%script bash\n",
    "\n",
    "# Extract saved variables\n",
    "source /tmp/variables.sh\n",
    "\n",
    "cd $project\n",
    "\n",
    "echo \"\"\n",
    "echo \"show the secrets of .git\"\n",
    "cd .git\n",
    "ls -l\n",
    "\n",
    "echo \"\"\n",
    "echo \"look at config file\"\n",
    "cat config"
   ]
  },
  {
   "attachments": {},
   "cell_type": "markdown",
   "metadata": {},
   "source": [
    "### Student Request - Make a file in Bash\n",
    "> This example was requested by a student (Jun Lim, CSA). The request was to make jupyer file using bash, I adapted the request to markdown.  This type of thought will have great extrapolation to coding and possibilities of using List, Arrays, or APIs to build user interfaces.  JavaScript is a language where building HTML is very common.\n",
    "\n",
    "> To get more interesting output from terminal, this will require using something like mdless (https://github.com/ttscoff/mdless).  This enables see markdown in rendered format.\n",
    "- On Desktop [Install PKG from MacPorts](https://www.macports.org/install.php)\n",
    "- In Terminal on MacOS\n",
    "    - [Install ncurses](https://ports.macports.org/port/ncurses/)\n",
    "    - ```gem install mdless```\n",
    "    \n",
    "> Output of the example is much nicer in \"jupyter\""
   ]
  },
  {
   "cell_type": "code",
   "execution_count": 12,
   "metadata": {
    "vscode": {
     "languageId": "shellscript"
    }
   },
   "outputs": [
    {
     "name": "stdout",
     "output_type": "stream",
     "text": [
      "\n",
      "File listing and status\n",
      "-rw-r--r--  1 rayanesouissi  wheel  809 Sep 27 23:58 sample.md\n",
      "      15     132     809 sample.md\n"
     ]
    },
    {
     "name": "stderr",
     "output_type": "stream",
     "text": [
      "bash: line 30: mdless: command not found\n"
     ]
    }
   ],
   "source": [
    "%%script bash\n",
    "\n",
    "# This example has error in VSCode, it run best on Jupyter\n",
    "cd /tmp\n",
    "\n",
    "file=\"sample.md\"\n",
    "if [ -f \"$file\" ]; then\n",
    "    rm $file\n",
    "fi\n",
    "\n",
    "tee -a $file >/dev/null <<EOF\n",
    "# Show Generated Markdown\n",
    "This introductory paragraph and this line and the title above are generated using tee with the standard input (<<) redirection operator.\n",
    "- This bulleted element is still part of the tee body.\n",
    "EOF\n",
    "\n",
    "echo \"- This bulleted element and lines below are generated using echo with standard output (>>) redirection operator.\" >> $file\n",
    "echo \"- The list definition, as is, is using space to seperate lines.  Thus the use of commas and hyphens in output.\" >> $file\n",
    "actions=(\"ls,list-directory\" \"cd,change-directory\" \"pwd,present-working-directory\" \"if-then-fi,test-condition\" \"env,bash-environment-variables\" \"cat,view-file-contents\" \"tee,write-to-output\" \"echo,display-content-of-string\" \"echo_text_>\\$file,write-content-to-file\" \"echo_text_>>\\$file,append-content-to-file\")\n",
    "for action in ${actions[@]}; do  # for loop is very similar to other language, though [@], semi-colon, do are new\n",
    "  action=${action//-/ }  # convert dash to space\n",
    "  action=${action//,/: } # convert comma to colon\n",
    "  action=${action//_text_/ \\\"sample text\\\" } # convert _text_ to sample text, note escape character \\ to avoid \"\" having meaning\n",
    "  echo \"    - ${action//-/ }\" >> $file  # echo is redirected to file with >>\n",
    "done\n",
    "\n",
    "echo \"\"\n",
    "echo \"File listing and status\"\n",
    "ls -l $file # list file\n",
    "wc $file   # show words\n",
    "mdless $file  # this requires installation, but renders markown from terminal\n",
    "\n",
    "rm $file  # clean up termporary file"
   ]
  },
  {
   "attachments": {},
   "cell_type": "markdown",
   "metadata": {},
   "source": [
    "## Hack Preparation.\n",
    "> Review Tool Setup Procedures and think about some thing you could verify through a Shell notebook.\n",
    "- Come up with your own student view of this procedure to show your tools are installed.\n",
    "- Name and create notes on some Linux commands you will use frequently.\n",
    "- Is there anything we use to verify tools we install? Review versions checks.\n",
    "- Is there anything we could verify with Anaconda?  or WSL?  \n",
    "- How would you update a repository?  Could you do that in script above?\n"
   ]
  }
 ],
 "metadata": {
  "kernelspec": {
   "display_name": "Python 3.10.6 64-bit",
   "language": "python",
   "name": "python3"
  },
  "language_info": {
   "codemirror_mode": {
    "name": "ipython",
    "version": 3
   },
   "file_extension": ".py",
   "mimetype": "text/x-python",
   "name": "python",
   "nbconvert_exporter": "python",
   "pygments_lexer": "ipython3",
   "version": "3.11.4"
  },
  "vscode": {
   "interpreter": {
    "hash": "aee8b7b246df8f9039afb4144a1f6fd8d2ca17a180786b69acc140d282b71a49"
   }
  }
 },
 "nbformat": 4,
 "nbformat_minor": 2
}
