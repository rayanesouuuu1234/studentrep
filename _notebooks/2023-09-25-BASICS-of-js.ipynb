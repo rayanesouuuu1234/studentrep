{
 "cells": [
  {
   "cell_type": "markdown",
   "metadata": {},
   "source": [
    "---\n",
    "title: Basics of JS\n",
    "hide: True\n",
    "description: A Tech Talk on how to use javascript\n",
    "type: hacks\n",
    "permalink: /basics/javascript\n",
    "author: Rayane Souissi\n",
    "comments: true\n",
    "courses: {csp: { week: 5 } }\n",
    "---"
   ]
  },
  {
   "cell_type": "raw",
   "metadata": {},
   "source": [
    "{% include nav_basics.html %}\n"
   ]
  },
  {
   "cell_type": "markdown",
   "metadata": {},
   "source": []
  },
  {
   "cell_type": "markdown",
   "metadata": {},
   "source": [
    "# Hacks\n",
    "- Write a JavaScript program that compares two variables, a and b. Log \"a is greater\" if a is greater than b, \"b is greater\" if b is greater than a, and \"both are equal\" if a and b are equal. Make sure to use if statements and console.log"
   ]
  },
  {
   "cell_type": "code",
   "execution_count": 17,
   "metadata": {
    "vscode": {
     "languageId": "javascript"
    }
   },
   "outputs": [
    {
     "data": {
      "application/javascript": "\n// Assign the value 2 to the variable x\nvar x = 2;\n\n// Assign the value 4 to the variable y\nvar y = 4;\n\n// Check if the value of x is greater than the value of y\nif (x > y) {\n    // If x is greater than y, log this message to the console\n    console.log(\"x is greater than y\");\n}\n\n// Check if the value of y is greater than the value of x\nif (y > x) {\n    // If y is greater than x, log this message to the console\n    console.log(\"y is greater than x\");\n} else {\n    // If neither of the above conditions are met (i.e., x and y are equal), log this message\n    console.log(\"they are equal\")\n}\n",
      "text/plain": [
       "<IPython.core.display.Javascript object>"
      ]
     },
     "metadata": {},
     "output_type": "display_data"
    }
   ],
   "source": [
    "%%js  \n",
    "\n",
    "// Assign the value 2 to the variable x\n",
    "var x = 2;\n",
    "\n",
    "// Assign the value 4 to the variable y\n",
    "var y = 4;\n",
    "\n",
    "// Check if the value of x is greater than the value of y\n",
    "if (x > y) {\n",
    "    // If x is greater than y, log this message to the console\n",
    "    console.log(\"x is greater than y\");\n",
    "}\n",
    "\n",
    "// Check if the value of y is greater than the value of x\n",
    "if (y > x) {\n",
    "    // If y is greater than x, log this message to the console\n",
    "    console.log(\"y is greater than x\");\n",
    "} else {\n",
    "    // If neither of the above conditions are met (i.e., x and y are equal), log this message\n",
    "    console.log(\"they are equal\")\n",
    "}"
   ]
  }
 ],
 "metadata": {
  "kernelspec": {
   "display_name": "Python 3",
   "language": "python",
   "name": "python3"
  },
  "language_info": {
   "codemirror_mode": {
    "name": "ipython",
    "version": 3
   },
   "file_extension": ".py",
   "mimetype": "text/x-python",
   "name": "python",
   "nbconvert_exporter": "python",
   "pygments_lexer": "ipython3",
   "version": "3.11.4"
  },
  "orig_nbformat": 4
 },
 "nbformat": 4,
 "nbformat_minor": 2
}
