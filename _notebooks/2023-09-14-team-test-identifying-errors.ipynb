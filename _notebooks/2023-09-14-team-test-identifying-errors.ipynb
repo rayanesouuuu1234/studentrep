{
 "cells": [
  {
   "cell_type": "markdown",
   "metadata": {},
   "source": [
    "---\n",
    "toc: True\n",
    "comments: True\n",
    "layout: post\n",
    "title: Identyfing and Correct Errors\n",
    "description: A divder calculator function that locates, and fixes the error of division by 0\n",
    "courses: {'csp': {'week': 4}}\n",
    "type: hacks\n",
    "---"
   ]
  },
  {
   "cell_type": "code",
   "execution_count": 6,
   "metadata": {},
   "outputs": [
    {
     "name": "stdout",
     "output_type": "stream",
     "text": [
      "Testing divide_if_else:\n",
      "Test case 1 passed!\n",
      "Test case 2 passed!\n",
      "Test case 3 passed!\n",
      "\n",
      "Testing divide_try_catch:\n",
      "Test case 1 passed!\n",
      "Test case 2 passed!\n",
      "Test case 3 passed!\n"
     ]
    }
   ],
   "source": [
    "# Using if/else for error handling\n",
    "def divide_if_else(a, b):\n",
    "    # Check if the denominator is zero\n",
    "    if b == 0:\n",
    "        # Return an appropriate error message or value\n",
    "        return \"undefined!\"\n",
    "    else:\n",
    "        return a / b\n",
    "\n",
    "# Using try/catch for error handling\n",
    "def divide_try_catch(a, b):\n",
    "    try:\n",
    "        return a / b\n",
    "    except ZeroDivisionError:  # Catching division by zero error\n",
    "        return \"undefined!\"\n",
    "\n",
    "# Tester function\n",
    "def test_divide(divide_function):\n",
    "    test_cases = [\n",
    "        (5, 2, 2.5),                # regular division\n",
    "        (5, 0, \"undefined!\"),   # division by zero\n",
    "        (0, 5, 0),                 # zero numerator\n",
    "    ]\n",
    "    \n",
    "    for i, (a, b, expected) in enumerate(test_cases):\n",
    "        result = divide_function(a, b)\n",
    "        assert result == expected, f\"Test case {i+1} failed: expected {expected} but got {result}\"\n",
    "        print(f\"Test case {i+1} passed!\")\n",
    "\n",
    "# Testing both implementations\n",
    "print(\"Testing divide_if_else:\")\n",
    "test_divide(divide_if_else)\n",
    "print(\"\\nTesting divide_try_catch:\")\n",
    "test_divide(divide_try_catch)"
   ]
  }
 ],
 "metadata": {
  "kernelspec": {
   "display_name": "Python 3",
   "language": "python",
   "name": "python3"
  },
  "language_info": {
   "codemirror_mode": {
    "name": "ipython",
    "version": 3
   },
   "file_extension": ".py",
   "mimetype": "text/x-python",
   "name": "python",
   "nbconvert_exporter": "python",
   "pygments_lexer": "ipython3",
   "version": "3.11.4"
  },
  "orig_nbformat": 4
 },
 "nbformat": 4,
 "nbformat_minor": 2
}
