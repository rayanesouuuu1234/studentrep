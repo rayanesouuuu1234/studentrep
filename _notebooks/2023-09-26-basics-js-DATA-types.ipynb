{
 "cells": [
  {
   "cell_type": "markdown",
   "metadata": {},
   "source": [
    "---\n",
    "title: Javascript Data Types/Lists\n",
    "hide: True\n",
    "description: A Tech Talk on javascript data types and how to use with lists\n",
    "type: hacks\n",
    "permalink: /basics/datatypes\n",
    "author: Rayane Souissi\n",
    "courses: {csp: { week: 5 } }\n",
    "---"
   ]
  },
  {
   "cell_type": "raw",
   "metadata": {},
   "source": [
    "{% include nav_basics.html %}\n"
   ]
  },
  {
   "cell_type": "markdown",
   "metadata": {},
   "source": [
    "## Hacks"
   ]
  },
  {
   "cell_type": "code",
   "execution_count": 1,
   "metadata": {
    "vscode": {
     "languageId": "javascript"
    }
   },
   "outputs": [
    {
     "data": {
      "application/javascript": "\n// Define an object 'obj' with various properties and values.\nvar obj = {\n    name: \"Rayane\",\n    age: 17,\n    sport: \"Soccer\",\n    favoriteClass: \"CSP\",\n    favoriteColor: \"green\"\n};\n\n// Log the object to the browser console.\nconsole.log(obj);\n\n// Define a sample array of numbers for which we'll calculate the standard deviation.\nvar numbers = [10, 20, 30, 40, 50];\n\n// Define a function to calculate the standard deviation for an array of numbers.\nfunction standardDeviation(arr) {\n    // Calculate the number of elements in the array.\n    const n = arr.length;\n    \n    // Calculate the mean (average) of the numbers.\n    const mean = arr.reduce((a, b) => a + b) / n;\n    \n    // Calculate the variance by subtracting the mean and squaring the result for each number.\n    // Then find the mean of those squared differences.\n    // Finally, the square root of that result gives the standard deviation.\n    return Math.sqrt(arr.map(x => Math.pow(x - mean, 2)).reduce((a, b) => a + b) / n);\n}\n\n// Display the calculated standard deviation in the Jupyter notebook output.\nelement.append(\"Standard Deviation of numbers: \" + standardDeviation(numbers));\n\n// Log the type of various data values to the browser console.\nconsole.log(typeof 42);          // Expected output: \"number\"\nconsole.log(typeof 'soccer');    // Expected output: \"string\"\nconsole.log(typeof true);        // Expected output: \"boolean\"\n",
      "text/plain": [
       "<IPython.core.display.Javascript object>"
      ]
     },
     "metadata": {},
     "output_type": "display_data"
    }
   ],
   "source": [
    "%%js\n",
    "\n",
    "// Define an object 'obj' with various properties and values.\n",
    "var obj = {\n",
    "    name: \"Rayane\",\n",
    "    age: 17,\n",
    "    sport: \"Soccer\",\n",
    "    favoriteClass: \"CSP\",\n",
    "    favoriteColor: \"green\"\n",
    "};\n",
    "\n",
    "// Log the object to the browser console.\n",
    "console.log(obj);\n",
    "\n",
    "// Define a sample array of numbers for which we'll calculate the standard deviation.\n",
    "var numbers = [10, 20, 30, 40, 50];\n",
    "\n",
    "// Define a function to calculate the standard deviation for an array of numbers.\n",
    "function standardDeviation(arr) {\n",
    "    // Calculate the number of elements in the array.\n",
    "    const n = arr.length;\n",
    "    \n",
    "    // Calculate the mean (average) of the numbers.\n",
    "    const mean = arr.reduce((a, b) => a + b) / n;\n",
    "    \n",
    "    // Calculate the variance by subtracting the mean and squaring the result for each number.\n",
    "    // Then find the mean of those squared differences.\n",
    "    // Finally, the square root of that result gives the standard deviation.\n",
    "    return Math.sqrt(arr.map(x => Math.pow(x - mean, 2)).reduce((a, b) => a + b) / n);\n",
    "}\n",
    "\n",
    "// Display the calculated standard deviation in the Jupyter notebook output.\n",
    "element.append(\"Standard Deviation of numbers: \" + standardDeviation(numbers));\n",
    "\n",
    "// Log the type of various data values to the browser console.\n",
    "console.log(typeof 42);          // Expected output: \"number\"\n",
    "console.log(typeof 'soccer');    // Expected output: \"string\"\n",
    "console.log(typeof true);        // Expected output: \"boolean\""
   ]
  }
 ],
 "metadata": {
  "kernelspec": {
   "display_name": "Python 3 (ipykernel)",
   "language": "python",
   "name": "python3"
  },
  "language_info": {
   "codemirror_mode": {
    "name": "ipython",
    "version": 3
   },
   "file_extension": ".py",
   "mimetype": "text/x-python",
   "name": "python",
   "nbconvert_exporter": "python",
   "pygments_lexer": "ipython3",
   "version": "3.11.4"
  }
 },
 "nbformat": 4,
 "nbformat_minor": 4
}
