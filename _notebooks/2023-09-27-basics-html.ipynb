{
 "cells": [
  {
   "cell_type": "markdown",
   "metadata": {},
   "source": [
    "---\n",
    "layout: post\n",
    "hide: True\n",
    "title: Basics of HTML Guide\n",
    "description: An introduction to basic HTML, and resources to learn more.\n",
    "type: hacks\n",
    "permalink: /basics/html\n",
    "author: Rohan Juneja\n",
    "courses: {csp: { week: 5 } }\n",
    "---"
   ]
  },
  {
   "cell_type": "raw",
   "metadata": {},
   "source": [
    "{% include nav_basics.html %}\n"
   ]
  },
  {
   "cell_type": "markdown",
   "metadata": {},
   "source": [
    "\n",
    "# How does HTML work?\n",
    "Similar function to Markdown, syntax defines how stuff should be displayed\n",
    "- HTML is based on beginning and closing tags `<tagname>content</tagname>`\n",
    "  - Note the \"/\" on the ending or closing tag of the pair"
   ]
  },
  {
   "cell_type": "markdown",
   "metadata": {},
   "source": [
    "## Compare markdown to html below\n",
    "This below example shows comparison of a [heading](https://www.w3schools.com/html/html_headings.asp) and [paragraph](https://www.w3schools.com/html/html_paragraphs.asp).  Click on links to see many more HTML examples."
   ]
  },
  {
   "cell_type": "code",
   "execution_count": 33,
   "metadata": {},
   "outputs": [
    {
     "data": {
      "text/markdown": [
       "\n",
       "### Markdown: This is a Heading\n",
       "\n",
       "This is a paragraph\n"
      ],
      "text/plain": [
       "<IPython.core.display.Markdown object>"
      ]
     },
     "metadata": {},
     "output_type": "display_data"
    }
   ],
   "source": [
    "%%markdown\n",
    "\n",
    "### Markdown: This is a Heading\n",
    "\n",
    "This is a paragraph\n"
   ]
  },
  {
   "cell_type": "code",
   "execution_count": 34,
   "metadata": {
    "vscode": {
     "languageId": "html"
    }
   },
   "outputs": [
    {
     "data": {
      "text/html": [
       "\n",
       "<h3>HTML: This is a Heading</h3>\n",
       "<p>This is a paragraph.</p>\n"
      ],
      "text/plain": [
       "<IPython.core.display.HTML object>"
      ]
     },
     "metadata": {},
     "output_type": "display_data"
    }
   ],
   "source": [
    "%%html\n",
    "\n",
    "<h3>HTML: This is a Heading</h3>\n",
    "<p>This is a paragraph.</p>"
   ]
  },
  {
   "cell_type": "markdown",
   "metadata": {},
   "source": [
    "# Attributes\n",
    "- Learn about [attributes](https://www.w3schools.com/html/html_attributes.asp) \n",
    "- Tags can have additional info in the form of attributes\n",
    "- Attributes usually come in name/value pairs like: name=\"value\"\n",
    "\n",
    "```html\n",
    "<tagname attribute_name=\"attribute_value\" another_attribute=\"another_value\">inner html text</tagname>\n",
    "```\n",
    "\n",
    "- href example with attribute for web link and inner html to describe link\n",
    "\n",
    "```html\n",
    "<a href=\"https://www.w3schools.com/html/default.asp\">Visit W3Schools HTML Page</a>\n",
    "```"
   ]
  },
  {
   "cell_type": "markdown",
   "metadata": {},
   "source": [
    "## Sample Markdown vs HTML Tags\n",
    "Image Tag - Markdown\n",
    "\n",
    "```md\n",
    "![describe image](link to image)\n",
    "```\n",
    "\n",
    "Image Tag - HTML\n",
    "\n",
    "```html\n",
    "<!-- no content so no end tag, width/height is optional (in pixels) -->\n",
    "<img alt=\"describe image\" src=\"link to image\" width=\"100\" height=\"200\">\n",
    "```\n",
    "\n",
    "Link Tag - Markdown\n",
    "\n",
    "```md\n",
    "[link text](link)\n",
    "```\n",
    "\n",
    "Link Tag - HTML\n",
    "\n",
    "```html\n",
    "<a href=\"link\">link text</a>\n",
    "```\n",
    "\n",
    "Bolded Text - Markdown\n",
    "\n",
    "```md\n",
    "**Bolded Text**\n",
    "```\n",
    "\n",
    "Bolded Text - HTML\n",
    "\n",
    "```md\n",
    "<strong>Bolded Text</strong>\n",
    "```\n",
    "\n",
    "Italic Text - Markdown\n",
    "\n",
    "```md\n",
    "*Italic Text*\n",
    "```\n",
    "\n",
    "Italic Text - HTML\n",
    "\n",
    "```md\n",
    "<i>Italic Text</i>\n",
    "```"
   ]
  },
  {
   "cell_type": "markdown",
   "metadata": {},
   "source": [
    "# More tags (not really in markdown)\n",
    "P tag (just represeants a paragraph/normal text)\n",
    "\n",
    "```html\n",
    "<p>This is a paragraph</p>\n",
    "```\n",
    "\n",
    "Button\n",
    "\n",
    "```html\n",
    "<button>some button text</button>\n",
    "```\n",
    "\n",
    "Div (groups together related content)\n",
    "\n",
    "```html\n",
    "<!-- first information -->\n",
    "<div>\n",
    "    <!-- notice how tags can be put INSIDE eachother -->\n",
    "    <p>This is the first paragarph of section 1</p>\n",
    "    <p>This is the second paragraph of section 1</p>\n",
    "</div>\n",
    "\n",
    "<!-- second information -->\n",
    "<div>\n",
    "    <!-- notice how tags can be put INSIDE eachother -->\n",
    "    <p>This is the first paragarph of section 2</p>\n",
    "    <p>This is the second paragraph of section 2</p>\n",
    "</div>\n",
    "```\n",
    "\n"
   ]
  },
  {
   "cell_type": "markdown",
   "metadata": {},
   "source": [
    "# Resources\n",
    "- https://www.w3schools.com/html/default.asp\n",
    "- I will show a demo of how to find information on this website"
   ]
  },
  {
   "cell_type": "markdown",
   "metadata": {},
   "source": [
    "# HTML Hacks\n",
    "- Below is a wireframe for an HTML element you will create. A wireframe is a rough visual representation of HTML elements on a page and isn't necessarily to scale or have the exact styling that the final HTML will have. Using the syntax above, try to create an HTML snippet that corresponds to the below wireframe.\n",
    "- The \"a tags\" can contain any links that you want\n",
    "\n",
    "![wireframe for html hacks]({{ site.baseurl }}/images/wireframe.png)"
   ]
  },
  {
   "cell_type": "markdown",
   "metadata": {},
   "source": [
    "## WIREFRAME 1"
   ]
  },
  {
   "cell_type": "code",
   "execution_count": 46,
   "metadata": {
    "vscode": {
     "languageId": "html"
    }
   },
   "outputs": [
    {
     "data": {
      "text/html": [
       "\n",
       "<!-- Embed Google Fonts to use in the HTML for typography -->\n",
       "<link href=\"https://fonts.googleapis.com/css2?family=Pacifico&display=swap\" rel=\"stylesheet\">\n",
       "\n",
       "<!-- Start of the main content -->\n",
       "<div style=\"background-color: rgb(0, 51, 96); color: rgb(255, 255, 255); font-family: 'Pacifico', cursive;\">\n",
       "\n",
       "    <h3>SOCCER</h3>\n",
       "    \n",
       "    <!-- Use the Roboto font for the paragraph for better readability -->\n",
       "    <p style=\"font-family: 'Roboto', sans-serif;\">\n",
       "        Soccer has been an integral part of my life from the very beginning. Since my early days, I've been drawn to the magic of the sport, reveling in every dribble, pass, and goal. This passion drove me to not only play the game but to immerse myself in it. Having played soccer throughout my life, I've been fortunate enough to represent both my club and high school teams. These experiences have given me countless memories, life lessons, and friendships that I cherish. Now, as I play club soccer and represent my high school, I am reminded every day of why I fell in love with the sport. The camaraderie, the challenges, the exhilaration of a winning goal, and even the lessons from a loss, have shaped me as an individual. Soccer is not just a sport to me; it's a lifelong journey, a passion, and an integral part of who I am. \n",
       "        <br>\n",
       "        <br>\n",
       "        (FC Barcelona is winning the Champions League this season) \n",
       "    </p>\n",
       "\n",
       "    <a href=\"https://www.uefa.com/uefachampionsleague/\">\n",
       "        <button>Click for more about soccer</button>\n",
       "    </a>\n",
       "</div>\n"
      ],
      "text/plain": [
       "<IPython.core.display.HTML object>"
      ]
     },
     "metadata": {},
     "output_type": "display_data"
    }
   ],
   "source": [
    "%%html\n",
    "\n",
    "<!-- Embed Google Fonts to use in the HTML for typography -->\n",
    "<link href=\"https://fonts.googleapis.com/css2?family=Pacifico&display=swap\" rel=\"stylesheet\">\n",
    "\n",
    "<!-- Start of the main content -->\n",
    "<div style=\"background-color: rgb(0, 51, 96); color: rgb(255, 255, 255); font-family: 'Pacifico', cursive;\">\n",
    "\n",
    "    <h3>SOCCER</h3>\n",
    "    \n",
    "    <!-- Use the Roboto font for the paragraph for better readability -->\n",
    "    <p style=\"font-family: 'Roboto', sans-serif;\">\n",
    "        Soccer has been an integral part of my life from the very beginning. Since my early days, I've been drawn to the magic of the sport, reveling in every dribble, pass, and goal. This passion drove me to not only play the game but to immerse myself in it. Having played soccer throughout my life, I've been fortunate enough to represent both my club and high school teams. These experiences have given me countless memories, life lessons, and friendships that I cherish. Now, as I play club soccer and represent my high school, I am reminded every day of why I fell in love with the sport. The camaraderie, the challenges, the exhilaration of a winning goal, and even the lessons from a loss, have shaped me as an individual. Soccer is not just a sport to me; it's a lifelong journey, a passion, and an integral part of who I am. \n",
    "        <br>\n",
    "        <br>\n",
    "        (FC Barcelona is winning the Champions League this season) \n",
    "    </p>\n",
    "\n",
    "    <a href=\"https://www.uefa.com/uefachampionsleague/\">\n",
    "        <button>Click for more about soccer</button>\n",
    "    </a>\n",
    "</div>"
   ]
  },
  {
   "cell_type": "code",
   "execution_count": 43,
   "metadata": {
    "vscode": {
     "languageId": "html"
    }
   },
   "outputs": [
    {
     "data": {
      "text/html": [
       "\n",
       "<!-- Embed Google Fonts to use in the HTML for typography -->\n",
       "<link href=\"https://fonts.googleapis.com/css2?family=Roboto:wght@400;700&display=swap\" rel=\"stylesheet\">\n",
       "\n",
       "<div style=\"background-color: rgb(20, 0, 93); padding: 20px; border-radius: 10px;\">\n",
       "\n",
       "    <!-- Styled link with a brighter color, font changes, and some padding for visual separation -->\n",
       "    <a href=\"https://www.dummies.com/article/home-auto-hobbies/sports-recreation/soccer/soccer-for-dummies-cheat-sheet-208057/\" \n",
       "       style=\"color: rgb(255, 255, 255); font-family: 'Roboto', sans-serif; font-weight: 700; text-decoration: none; padding: 10px; display: block;\">\n",
       "        A quick guide to learning soccer\n",
       "    </a>\n",
       "\n",
       "    <!-- Styled link similar to the above -->\n",
       "    <a href=\"https://delnorte.powayusd.com/apps/pages/teams\" \n",
       "       style=\"color: rgb(255, 255, 255); font-family: 'Roboto', sans-serif; font-weight: 700; text-decoration: none; padding: 10px; display: block;\">\n",
       "        Link to DNHS soccer\n",
       "    </a>\n",
       "\n",
       "</div>\n"
      ],
      "text/plain": [
       "<IPython.core.display.HTML object>"
      ]
     },
     "metadata": {},
     "output_type": "display_data"
    }
   ],
   "source": [
    "%%html\n",
    "\n",
    "<!-- Embed Google Fonts -->\n",
    "<link href=\"https://fonts.googleapis.com/css2?family=Roboto:wght@400;700&display=swap\" rel=\"stylesheet\">\n",
    "\n",
    "<div style=\"background-color: rgb(20, 0, 93); padding: 20px; border-radius: 10px;\">\n",
    "\n",
    "    <!-- Styled link with a brighter color, font changes, and some padding for visual separation -->\n",
    "    <a href=\"https://www.dummies.com/article/home-auto-hobbies/sports-recreation/soccer/soccer-for-dummies-cheat-sheet-208057/\" \n",
    "       style=\"color: rgb(255, 255, 255); font-family: 'Roboto', sans-serif; font-weight: 700; text-decoration: none; padding: 10px; display: block;\">\n",
    "        A quick guide to learning soccer\n",
    "    </a>\n",
    "\n",
    "    <!-- Styled link similar to the above -->\n",
    "    <a href=\"https://delnorte.powayusd.com/apps/pages/teams\" \n",
    "       style=\"color: rgb(255, 255, 255); font-family: 'Roboto', sans-serif; font-weight: 700; text-decoration: none; padding: 10px; display: block;\">\n",
    "        Link to DNHS soccer\n",
    "    </a>\n",
    "\n",
    "</div>\n"
   ]
  }
 ],
 "metadata": {
  "kernelspec": {
   "display_name": "Python 3",
   "language": "python",
   "name": "python3"
  },
  "language_info": {
   "codemirror_mode": {
    "name": "ipython",
    "version": 3
   },
   "file_extension": ".py",
   "mimetype": "text/x-python",
   "name": "python",
   "nbconvert_exporter": "python",
   "pygments_lexer": "ipython3",
   "version": "3.11.4"
  },
  "orig_nbformat": 4
 },
 "nbformat": 4,
 "nbformat_minor": 2
}
