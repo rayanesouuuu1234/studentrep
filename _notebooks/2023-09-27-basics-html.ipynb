{
 "cells": [
  {
   "cell_type": "markdown",
   "metadata": {},
   "source": [
    "---\n",
    "layout: post\n",
    "hide: True\n",
    "title: Basics of HTML \n",
    "description: An introduction to basic HTML, and resources to learn more.\n",
    "type: hacks\n",
    "permalink: /basics/html\n",
    "author: Rayane Souissi\n",
    "courses: {csp: { week: 5 } }\n",
    "---"
   ]
  },
  {
   "cell_type": "raw",
   "metadata": {},
   "source": [
    "{% include nav_basics.html %}\n"
   ]
  },
  {
   "cell_type": "markdown",
   "metadata": {},
   "source": [
    "## WIREFRAME 1"
   ]
  },
  {
   "cell_type": "code",
   "execution_count": 46,
   "metadata": {
    "vscode": {
     "languageId": "html"
    }
   },
   "outputs": [
    {
     "data": {
      "text/html": [
       "\n",
       "<!-- Embed Google Fonts to use in the HTML for typography -->\n",
       "<link href=\"https://fonts.googleapis.com/css2?family=Pacifico&display=swap\" rel=\"stylesheet\">\n",
       "\n",
       "<!-- Start of the main content -->\n",
       "<div style=\"background-color: rgb(0, 51, 96); color: rgb(255, 255, 255); font-family: 'Pacifico', cursive;\">\n",
       "\n",
       "    <h3>SOCCER</h3>\n",
       "    \n",
       "    <!-- Use the Roboto font for the paragraph for better readability -->\n",
       "    <p style=\"font-family: 'Roboto', sans-serif;\">\n",
       "        Soccer has been an integral part of my life from the very beginning. Since my early days, I've been drawn to the magic of the sport, reveling in every dribble, pass, and goal. This passion drove me to not only play the game but to immerse myself in it. Having played soccer throughout my life, I've been fortunate enough to represent both my club and high school teams. These experiences have given me countless memories, life lessons, and friendships that I cherish. Now, as I play club soccer and represent my high school, I am reminded every day of why I fell in love with the sport. The camaraderie, the challenges, the exhilaration of a winning goal, and even the lessons from a loss, have shaped me as an individual. Soccer is not just a sport to me; it's a lifelong journey, a passion, and an integral part of who I am. \n",
       "        <br>\n",
       "        <br>\n",
       "        (FC Barcelona is winning the Champions League this season) \n",
       "    </p>\n",
       "\n",
       "    <a href=\"https://www.uefa.com/uefachampionsleague/\">\n",
       "        <button>Click for more about soccer</button>\n",
       "    </a>\n",
       "</div>\n"
      ],
      "text/plain": [
       "<IPython.core.display.HTML object>"
      ]
     },
     "metadata": {},
     "output_type": "display_data"
    }
   ],
   "source": [
    "%%html\n",
    "\n",
    "<!-- Embed Google Fonts to use in the HTML for typography -->\n",
    "<link href=\"https://fonts.googleapis.com/css2?family=Pacifico&display=swap\" rel=\"stylesheet\">\n",
    "\n",
    "<!-- Start of the main content -->\n",
    "<div style=\"background-color: rgb(0, 51, 96); color: rgb(255, 255, 255); font-family: 'Pacifico', cursive;\">\n",
    "\n",
    "    <h3>SOCCER</h3>\n",
    "    \n",
    "    <!-- Use the Roboto font for the paragraph for better readability -->\n",
    "    <p style=\"font-family: 'Roboto', sans-serif;\">\n",
    "        Soccer has been an integral part of my life from the very beginning. Since my early days, I've been drawn to the magic of the sport, reveling in every dribble, pass, and goal. This passion drove me to not only play the game but to immerse myself in it. Having played soccer throughout my life, I've been fortunate enough to represent both my club and high school teams. These experiences have given me countless memories, life lessons, and friendships that I cherish. Now, as I play club soccer and represent my high school, I am reminded every day of why I fell in love with the sport. The camaraderie, the challenges, the exhilaration of a winning goal, and even the lessons from a loss, have shaped me as an individual. Soccer is not just a sport to me; it's a lifelong journey, a passion, and an integral part of who I am. \n",
    "        <br>\n",
    "        <br>\n",
    "        (FC Barcelona is winning the Champions League this season) \n",
    "    </p>\n",
    "\n",
    "    <a href=\"https://www.uefa.com/uefachampionsleague/\">\n",
    "        <button>Click for more about soccer</button>\n",
    "    </a>\n",
    "</div>"
   ]
  },
  {
   "cell_type": "code",
   "execution_count": 43,
   "metadata": {
    "vscode": {
     "languageId": "html"
    }
   },
   "outputs": [
    {
     "data": {
      "text/html": [
       "\n",
       "<!-- Embed Google Fonts to use in the HTML for typography -->\n",
       "<link href=\"https://fonts.googleapis.com/css2?family=Roboto:wght@400;700&display=swap\" rel=\"stylesheet\">\n",
       "\n",
       "<div style=\"background-color: rgb(20, 0, 93); padding: 20px; border-radius: 10px;\">\n",
       "\n",
       "    <!-- Styled link with a brighter color, font changes, and some padding for visual separation -->\n",
       "    <a href=\"https://www.dummies.com/article/home-auto-hobbies/sports-recreation/soccer/soccer-for-dummies-cheat-sheet-208057/\" \n",
       "       style=\"color: rgb(255, 255, 255); font-family: 'Roboto', sans-serif; font-weight: 700; text-decoration: none; padding: 10px; display: block;\">\n",
       "        A quick guide to learning soccer\n",
       "    </a>\n",
       "\n",
       "    <!-- Styled link similar to the above -->\n",
       "    <a href=\"https://delnorte.powayusd.com/apps/pages/teams\" \n",
       "       style=\"color: rgb(255, 255, 255); font-family: 'Roboto', sans-serif; font-weight: 700; text-decoration: none; padding: 10px; display: block;\">\n",
       "        Link to DNHS soccer\n",
       "    </a>\n",
       "\n",
       "</div>\n"
      ],
      "text/plain": [
       "<IPython.core.display.HTML object>"
      ]
     },
     "metadata": {},
     "output_type": "display_data"
    }
   ],
   "source": [
    "%%html\n",
    "\n",
    "<!-- Embed Google Fonts -->\n",
    "<link href=\"https://fonts.googleapis.com/css2?family=Roboto:wght@400;700&display=swap\" rel=\"stylesheet\">\n",
    "\n",
    "<div style=\"background-color: rgb(20, 0, 93); padding: 20px; border-radius: 10px;\">\n",
    "\n",
    "    <!-- Styled link with a brighter color, font changes, and some padding for visual separation -->\n",
    "    <a href=\"https://www.dummies.com/article/home-auto-hobbies/sports-recreation/soccer/soccer-for-dummies-cheat-sheet-208057/\" \n",
    "       style=\"color: rgb(255, 255, 255); font-family: 'Roboto', sans-serif; font-weight: 700; text-decoration: none; padding: 10px; display: block;\">\n",
    "        A quick guide to learning soccer\n",
    "    </a>\n",
    "\n",
    "    <!-- Styled link similar to the above -->\n",
    "    <a href=\"https://delnorte.powayusd.com/apps/pages/teams\" \n",
    "       style=\"color: rgb(255, 255, 255); font-family: 'Roboto', sans-serif; font-weight: 700; text-decoration: none; padding: 10px; display: block;\">\n",
    "        Link to DNHS soccer\n",
    "    </a>\n",
    "\n",
    "</div>\n"
   ]
  }
 ],
 "metadata": {
  "kernelspec": {
   "display_name": "Python 3",
   "language": "python",
   "name": "python3"
  },
  "language_info": {
   "codemirror_mode": {
    "name": "ipython",
    "version": 3
   },
   "file_extension": ".py",
   "mimetype": "text/x-python",
   "name": "python",
   "nbconvert_exporter": "python",
   "pygments_lexer": "ipython3",
   "version": "3.11.4"
  },
  "orig_nbformat": 4
 },
 "nbformat": 4,
 "nbformat_minor": 2
}
