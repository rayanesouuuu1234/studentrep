{
 "cells": [
  {
   "cell_type": "markdown",
   "metadata": {},
   "source": [
    "---\n",
    "title: Javascript Data Types/Lists\n",
    "hide: True\n",
    "description: A Tech Talk on javascript data types and how to use with lists\n",
    "type: hacks\n",
    "permalink: /basics/datatypes\n",
    "author: Rayane Souissi\n",
    "courses: {csp: { week: 5 } }\n",
    "---"
   ]
  },
  {
   "cell_type": "raw",
   "metadata": {},
   "source": [
    "{% include nav_basics.html %}\n"
   ]
  },
  {
   "cell_type": "markdown",
   "metadata": {},
   "source": [
    "## Hacks"
   ]
  },
  {
   "cell_type": "code",
   "execution_count": 3,
   "metadata": {
    "vscode": {
     "languageId": "javascript"
    }
   },
   "outputs": [
    {
     "data": {
      "application/javascript": "\n// Define a player object with various properties\nvar obj = {\n    name: \"Rayane\",             // Player's name\n    age: 17,                    // Current age of the player\n    sport: \"Soccer\",            // Sport the player is involved in\n    favoriteclass: \"CSP\",       // Player's favorite class\n    favoritecolor: \"Green\",     // Player's favorite color\n\n    // Method to compute future age of the player given a number of years\n    futureAge: function(years) {\n        return this.age + years;\n    }\n};\n\n// Log the player's data to the console\nconsole.log(obj);\n\n// Calculate and log the player's age after 5 years using the futureAge method\nconsole.log(\"Rayane's age after 5 years will be:\", obj.futureAge(5));\n\n// Perform a conditional arithmetic operation based on player's current age:\n// - If the player's age is above 15, sum a large number with a smaller one\n// - Otherwise, sum the smaller number with itself\nvar largeNumber = (obj.age > 15) ? 900000000000 + 90000000000 : 90000000000 + 90000000000;\nconsole.log(largeNumber);\n\n// Define a function to provide a descriptive type check\nfunction displayType(value) {\n    // Return a string that combines the value and its type\n    return \"Type of '\" + value + \"' is: \" + typeof value;\n}\n\n// Log the type of various values using the displayType function\nconsole.log(displayType(17));         // Display type for a number\nconsole.log(displayType('soccer'));   // Display type for a string\nconsole.log(displayType(true));       // Display type for a boolean\n",
      "text/plain": [
       "<IPython.core.display.Javascript object>"
      ]
     },
     "metadata": {},
     "output_type": "display_data"
    }
   ],
   "source": [
    "%%js\n",
    "\n",
    "// Define a player object with various properties\n",
    "var obj = {\n",
    "    name: \"Rayane\",             // Player's name\n",
    "    age: 17,                    // Current age of the player\n",
    "    sport: \"Soccer\",            // Sport the player is involved in\n",
    "    favoriteclass: \"CSP\",       // Player's favorite class\n",
    "    favoritecolor: \"Green\",     // Player's favorite color\n",
    "\n",
    "    // Method to compute future age of the player given a number of years\n",
    "    futureAge: function(years) {\n",
    "        return this.age + years;\n",
    "    }\n",
    "};\n",
    "\n",
    "// Log the player's data to the console\n",
    "console.log(obj);\n",
    "\n",
    "// Calculate and log the player's age after 5 years using the futureAge method\n",
    "console.log(\"Rayane's age after 5 years will be:\", obj.futureAge(5));\n",
    "\n",
    "// Perform a conditional arithmetic operation based on player's current age:\n",
    "// - If the player's age is above 15, sum a large number with a smaller one\n",
    "// - Otherwise, sum the smaller number with itself\n",
    "var largeNumber = (obj.age > 15) ? 900000000000 + 90000000000 : 90000000000 + 90000000000;\n",
    "console.log(largeNumber);\n",
    "\n",
    "// Define a function to provide a descriptive type check\n",
    "function displayType(value) {\n",
    "    // Return a string that combines the value and its type\n",
    "    return \"Type of '\" + value + \"' is: \" + typeof value;\n",
    "}\n",
    "\n",
    "// Log the type of various values using the displayType function\n",
    "console.log(displayType(17));         // Display type for a number\n",
    "console.log(displayType('soccer'));   // Display type for a string\n",
    "console.log(displayType(true));       // Display type for a boolean"
   ]
  }
 ],
 "metadata": {
  "kernelspec": {
   "display_name": "Python 3 (ipykernel)",
   "language": "python",
   "name": "python3"
  },
  "language_info": {
   "codemirror_mode": {
    "name": "ipython",
    "version": 3
   },
   "file_extension": ".py",
   "mimetype": "text/x-python",
   "name": "python",
   "nbconvert_exporter": "python",
   "pygments_lexer": "ipython3",
   "version": "3.11.4"
  }
 },
 "nbformat": 4,
 "nbformat_minor": 4
}
