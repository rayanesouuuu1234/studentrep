{
 "cells": [
  {
   "cell_type": "markdown",
   "metadata": {},
   "source": [
    "---\n",
    "toc: True\n",
    "comments: True\n",
    "layout: post\n",
    "title: Soccer Player Salaries w/ CSV\n",
    "description: \n",
    "courses: {'csp': {'week': 3}}\n",
    "type: hacks\n",
    "---"
   ]
  },
  {
   "cell_type": "code",
   "execution_count": 6,
   "metadata": {},
   "outputs": [
    {
     "name": "stdout",
     "output_type": "stream",
     "text": [
      "Base Salary for Gressel: $75000.0\n",
      "Guaranteed Compensation for Gressel: $93750.0\n"
     ]
    }
   ],
   "source": [
    "import csv\n",
    "\n",
    "def get_salary_from_csv(last_name, csv_path='/Users/rayanesouissi/Desktop/mls-salaries-2017.csv'):\n",
    "    with open(csv_path, mode='r', encoding='utf-8') as file:\n",
    "        reader = csv.reader(file)\n",
    "        for row in reader:\n",
    "            if row[1] == last_name:\n",
    "                return (row[4], row[5])  # Return tuple of (base salary, guaranteed compensation)\n",
    "        return None\n",
    "\n",
    "if __name__ == \"__main__\":\n",
    "    player_last_name = input(\"Enter the player's last name: \")\n",
    "    salaries = get_salary_from_csv(player_last_name)\n",
    "    \n",
    "    if salaries:\n",
    "        base_salary, guaranteed_compensation = salaries\n",
    "        print(f\"Base Salary for {player_last_name}: ${base_salary}\")\n",
    "        print(f\"Guaranteed Compensation for {player_last_name}: ${guaranteed_compensation}\")\n",
    "    else:\n",
    "        print(f\"No player found with last name {player_last_name}.\")\n"
   ]
  }
 ],
 "metadata": {
  "kernelspec": {
   "display_name": "Python 3",
   "language": "python",
   "name": "python3"
  },
  "language_info": {
   "codemirror_mode": {
    "name": "ipython",
    "version": 3
   },
   "file_extension": ".py",
   "mimetype": "text/x-python",
   "name": "python",
   "nbconvert_exporter": "python",
   "pygments_lexer": "ipython3",
   "version": "3.11.4"
  },
  "orig_nbformat": 4
 },
 "nbformat": 4,
 "nbformat_minor": 2
}
